{
  "nbformat": 4,
  "nbformat_minor": 0,
  "metadata": {
    "colab": {
      "provenance": [],
      "authorship_tag": "ABX9TyNDljNoFjMCMc+XKA2n6C2s"
    },
    "kernelspec": {
      "name": "python3",
      "display_name": "Python 3"
    },
    "language_info": {
      "name": "python"
    }
  },
  "cells": [
    {
      "cell_type": "code",
      "execution_count": 132,
      "metadata": {
        "id": "kZ9_83coOcLd"
      },
      "outputs": [],
      "source": [
        "import tensorflow as tf\n",
        "import numpy as np"
      ]
    },
    {
      "cell_type": "markdown",
      "source": [
        "**Basic Tensors**"
      ],
      "metadata": {
        "id": "KfIeWMrQ_wRe"
      }
    },
    {
      "cell_type": "code",
      "source": [
        "tensor_zero_d = tf.constant(12)"
      ],
      "metadata": {
        "id": "26awI8OeOtz9"
      },
      "execution_count": 133,
      "outputs": []
    },
    {
      "cell_type": "code",
      "source": [
        "print(tensor_zero_d)"
      ],
      "metadata": {
        "colab": {
          "base_uri": "https://localhost:8080/"
        },
        "id": "NKbFMpboO22q",
        "outputId": "e6342451-6411-4be0-f106-f6186fd1fda7"
      },
      "execution_count": 134,
      "outputs": [
        {
          "output_type": "stream",
          "name": "stdout",
          "text": [
            "tf.Tensor(12, shape=(), dtype=int32)\n"
          ]
        }
      ]
    },
    {
      "cell_type": "code",
      "source": [
        "tensor_one_d = tf.constant([12, 5, 18, 11.], dtype = tf.float16)"
      ],
      "metadata": {
        "id": "2JzMTUjuO9Ai"
      },
      "execution_count": 135,
      "outputs": []
    },
    {
      "cell_type": "code",
      "source": [
        "print(tensor_one_d)"
      ],
      "metadata": {
        "colab": {
          "base_uri": "https://localhost:8080/"
        },
        "id": "anTTFk99O9tL",
        "outputId": "8d0b77c6-5d45-4fb5-9bfb-1c5ee0a7720d"
      },
      "execution_count": 136,
      "outputs": [
        {
          "output_type": "stream",
          "name": "stdout",
          "text": [
            "tf.Tensor([12.  5. 18. 11.], shape=(4,), dtype=float16)\n"
          ]
        }
      ]
    },
    {
      "cell_type": "code",
      "source": [
        "print(tensor_one_d.shape)"
      ],
      "metadata": {
        "colab": {
          "base_uri": "https://localhost:8080/"
        },
        "id": "81QACoK7O99Y",
        "outputId": "f4bcd5c8-3965-48fa-849e-52d97168079c"
      },
      "execution_count": 137,
      "outputs": [
        {
          "output_type": "stream",
          "name": "stdout",
          "text": [
            "(4,)\n"
          ]
        }
      ]
    },
    {
      "cell_type": "code",
      "source": [
        "print(tensor_one_d.ndim)"
      ],
      "metadata": {
        "colab": {
          "base_uri": "https://localhost:8080/"
        },
        "id": "pG3tju0KPY5F",
        "outputId": "f7f65d80-0355-481b-ceab-a4b73c2b5fd4"
      },
      "execution_count": 138,
      "outputs": [
        {
          "output_type": "stream",
          "name": "stdout",
          "text": [
            "1\n"
          ]
        }
      ]
    },
    {
      "cell_type": "code",
      "source": [
        "tensor_one_d_2 = tf.constant([5, 9, 12.], dtype = tf.float32)\n",
        "tensor_one_d_2_int = tf.cast(tensor_one_d_2, dtype = tf.int16)\n",
        "print(tensor_one_d_2)\n",
        "print(tensor_one_d_2_int)"
      ],
      "metadata": {
        "colab": {
          "base_uri": "https://localhost:8080/"
        },
        "id": "-yRh4b1iPY-b",
        "outputId": "03f6d3b1-e343-4522-fbc9-7ab288e1e19a"
      },
      "execution_count": 139,
      "outputs": [
        {
          "output_type": "stream",
          "name": "stdout",
          "text": [
            "tf.Tensor([ 5.  9. 12.], shape=(3,), dtype=float32)\n",
            "tf.Tensor([ 5  9 12], shape=(3,), dtype=int16)\n"
          ]
        }
      ]
    },
    {
      "cell_type": "code",
      "source": [
        "tensor_string = tf.constant([\"Hello\", \"Hi\"])\n",
        "print(tensor_string)"
      ],
      "metadata": {
        "colab": {
          "base_uri": "https://localhost:8080/"
        },
        "id": "5Aup3csFPZab",
        "outputId": "284dc39d-f738-4c01-c511-1298fd22ef78"
      },
      "execution_count": 140,
      "outputs": [
        {
          "output_type": "stream",
          "name": "stdout",
          "text": [
            "tf.Tensor([b'Hello' b'Hi'], shape=(2,), dtype=string)\n"
          ]
        }
      ]
    },
    {
      "cell_type": "code",
      "source": [
        "np_array = np.array([12, 5, 18, 11])\n",
        "print(np_array)"
      ],
      "metadata": {
        "colab": {
          "base_uri": "https://localhost:8080/"
        },
        "id": "I0aDMp_cPZ4K",
        "outputId": "20397b0f-8ded-4b3b-f3e9-6ec16940ca22"
      },
      "execution_count": 141,
      "outputs": [
        {
          "output_type": "stream",
          "name": "stdout",
          "text": [
            "[12  5 18 11]\n"
          ]
        }
      ]
    },
    {
      "cell_type": "code",
      "source": [
        "converted_tensor = tf.convert_to_tensor(np_array)\n",
        "print(converted_tensor)"
      ],
      "metadata": {
        "colab": {
          "base_uri": "https://localhost:8080/"
        },
        "id": "8asZhU_tPaDq",
        "outputId": "8b311023-ce97-443d-cc74-8e6f235bfd39"
      },
      "execution_count": 142,
      "outputs": [
        {
          "output_type": "stream",
          "name": "stdout",
          "text": [
            "tf.Tensor([12  5 18 11], shape=(4,), dtype=int64)\n"
          ]
        }
      ]
    },
    {
      "cell_type": "code",
      "source": [
        "eye_tensor_1 = tf.eye(3, 2)\n",
        "print(eye_tensor_1)\n",
        "\n",
        "eye_tensor_2 = tf.eye(3, dtype = tf.bool, batch_shape = [3, 2])\n",
        "print(eye_tensor_2)"
      ],
      "metadata": {
        "colab": {
          "base_uri": "https://localhost:8080/"
        },
        "id": "vuBrF1VIO-Ib",
        "outputId": "b4ea6093-7fc8-4ecc-b8a2-a9a1a24a813d"
      },
      "execution_count": 143,
      "outputs": [
        {
          "output_type": "stream",
          "name": "stdout",
          "text": [
            "tf.Tensor(\n",
            "[[1. 0.]\n",
            " [0. 1.]\n",
            " [0. 0.]], shape=(3, 2), dtype=float32)\n",
            "tf.Tensor(\n",
            "[[[[ True False False]\n",
            "   [False  True False]\n",
            "   [False False  True]]\n",
            "\n",
            "  [[ True False False]\n",
            "   [False  True False]\n",
            "   [False False  True]]]\n",
            "\n",
            "\n",
            " [[[ True False False]\n",
            "   [False  True False]\n",
            "   [False False  True]]\n",
            "\n",
            "  [[ True False False]\n",
            "   [False  True False]\n",
            "   [False False  True]]]\n",
            "\n",
            "\n",
            " [[[ True False False]\n",
            "   [False  True False]\n",
            "   [False False  True]]\n",
            "\n",
            "  [[ True False False]\n",
            "   [False  True False]\n",
            "   [False False  True]]]], shape=(3, 2, 3, 3), dtype=bool)\n"
          ]
        }
      ]
    },
    {
      "cell_type": "code",
      "source": [
        "fill_tensor = tf.fill([5, 4], 12.05)\n",
        "print(fill_tensor)"
      ],
      "metadata": {
        "colab": {
          "base_uri": "https://localhost:8080/"
        },
        "id": "cUkZkyCOy9_4",
        "outputId": "41e48cb4-3f36-47c1-e120-a2754f1fcaa0"
      },
      "execution_count": 144,
      "outputs": [
        {
          "output_type": "stream",
          "name": "stdout",
          "text": [
            "tf.Tensor(\n",
            "[[12.05 12.05 12.05 12.05]\n",
            " [12.05 12.05 12.05 12.05]\n",
            " [12.05 12.05 12.05 12.05]\n",
            " [12.05 12.05 12.05 12.05]\n",
            " [12.05 12.05 12.05 12.05]], shape=(5, 4), dtype=float32)\n"
          ]
        }
      ]
    },
    {
      "cell_type": "code",
      "source": [
        "ones_tensor = tf.ones([5, 4])\n",
        "print(ones_tensor)"
      ],
      "metadata": {
        "colab": {
          "base_uri": "https://localhost:8080/"
        },
        "id": "DxX5VjRF1aCH",
        "outputId": "742aceef-2613-436c-d871-b053e57d7ab4"
      },
      "execution_count": 145,
      "outputs": [
        {
          "output_type": "stream",
          "name": "stdout",
          "text": [
            "tf.Tensor(\n",
            "[[1. 1. 1. 1.]\n",
            " [1. 1. 1. 1.]\n",
            " [1. 1. 1. 1.]\n",
            " [1. 1. 1. 1.]\n",
            " [1. 1. 1. 1.]], shape=(5, 4), dtype=float32)\n"
          ]
        }
      ]
    },
    {
      "cell_type": "code",
      "source": [
        "sample_tensor = tf.constant([[2, 3, 5],[5, 8,9]])\n",
        "ones_like_tensor = tf.ones_like(sample_tensor)\n",
        "print(ones_like_tensor)"
      ],
      "metadata": {
        "colab": {
          "base_uri": "https://localhost:8080/"
        },
        "id": "7DYFI0Wx1hdv",
        "outputId": "a0519a45-00a3-4dc2-9c76-8b428fea04bb"
      },
      "execution_count": 146,
      "outputs": [
        {
          "output_type": "stream",
          "name": "stdout",
          "text": [
            "tf.Tensor(\n",
            "[[1 1 1]\n",
            " [1 1 1]], shape=(2, 3), dtype=int32)\n"
          ]
        }
      ]
    },
    {
      "cell_type": "code",
      "source": [
        "zeros_tensor = tf.zeros([2, 3])\n",
        "print(zeros_tensor)"
      ],
      "metadata": {
        "colab": {
          "base_uri": "https://localhost:8080/"
        },
        "id": "9ce7-8u_2TeA",
        "outputId": "474d08ba-a867-4973-cc55-c6fabfdd7db0"
      },
      "execution_count": 147,
      "outputs": [
        {
          "output_type": "stream",
          "name": "stdout",
          "text": [
            "tf.Tensor(\n",
            "[[0. 0. 0.]\n",
            " [0. 0. 0.]], shape=(2, 3), dtype=float32)\n"
          ]
        }
      ]
    },
    {
      "cell_type": "code",
      "source": [
        "print(tf.shape(sample_tensor))"
      ],
      "metadata": {
        "colab": {
          "base_uri": "https://localhost:8080/"
        },
        "id": "v71PcFIH2b8T",
        "outputId": "c4bdf540-63d8-4251-847b-711004061114"
      },
      "execution_count": 148,
      "outputs": [
        {
          "output_type": "stream",
          "name": "stdout",
          "text": [
            "tf.Tensor([2 3], shape=(2,), dtype=int32)\n"
          ]
        }
      ]
    },
    {
      "cell_type": "code",
      "source": [
        "rank_tensor_1 = tf.constant(12.05)\n",
        "rank_tensor_2 = tf.constant([12.05])\n",
        "rank_tensor_3 = sample_tensor\n",
        "\n",
        "print(tf.rank(rank_tensor_1))\n",
        "print(tf.rank(rank_tensor_2))\n",
        "print(tf.rank(rank_tensor_3))"
      ],
      "metadata": {
        "colab": {
          "base_uri": "https://localhost:8080/"
        },
        "id": "rNLIzN1d2qAZ",
        "outputId": "e8062fab-0584-4684-fb8c-81b19e8e6197"
      },
      "execution_count": 149,
      "outputs": [
        {
          "output_type": "stream",
          "name": "stdout",
          "text": [
            "tf.Tensor(0, shape=(), dtype=int32)\n",
            "tf.Tensor(1, shape=(), dtype=int32)\n",
            "tf.Tensor(2, shape=(), dtype=int32)\n"
          ]
        }
      ]
    },
    {
      "cell_type": "code",
      "source": [
        "print(tf.size(sample_tensor))"
      ],
      "metadata": {
        "colab": {
          "base_uri": "https://localhost:8080/"
        },
        "id": "Nx8R_uuF3Y0C",
        "outputId": "6aff691a-61b0-4609-8e2f-9c4adac89fe7"
      },
      "execution_count": 150,
      "outputs": [
        {
          "output_type": "stream",
          "name": "stdout",
          "text": [
            "tf.Tensor(6, shape=(), dtype=int32)\n"
          ]
        }
      ]
    },
    {
      "cell_type": "code",
      "source": [
        "print(tf.size(sample_tensor, out_type = tf.float16))"
      ],
      "metadata": {
        "colab": {
          "base_uri": "https://localhost:8080/"
        },
        "id": "bel_u3MW3uoA",
        "outputId": "40d20398-902c-4b64-c9f2-629a059fff49"
      },
      "execution_count": 151,
      "outputs": [
        {
          "output_type": "stream",
          "name": "stdout",
          "text": [
            "tf.Tensor(6.0, shape=(), dtype=float16)\n"
          ]
        }
      ]
    },
    {
      "cell_type": "code",
      "source": [
        "random_normal_tensor = tf.random.normal([3, 2], mean = 100, stddev = 1.5)\n",
        "print(random_normal_tensor)"
      ],
      "metadata": {
        "colab": {
          "base_uri": "https://localhost:8080/"
        },
        "id": "UFISpzQK4ERo",
        "outputId": "dcffeac6-9576-4131-ac56-eaca288520fa"
      },
      "execution_count": 152,
      "outputs": [
        {
          "output_type": "stream",
          "name": "stdout",
          "text": [
            "tf.Tensor(\n",
            "[[100.9079   97.42326]\n",
            " [ 97.38773 100.41212]\n",
            " [ 98.66231 100.3288 ]], shape=(3, 2), dtype=float32)\n"
          ]
        }
      ]
    },
    {
      "cell_type": "code",
      "source": [
        "random_uniform_tensor = tf.random.uniform([2, 3], 3, 10, tf.int32)\n",
        "print(random_uniform_tensor)"
      ],
      "metadata": {
        "colab": {
          "base_uri": "https://localhost:8080/"
        },
        "id": "RTDVLY4u5HvR",
        "outputId": "436604b9-daca-4206-b2c7-9d2c7f6bfca2"
      },
      "execution_count": 153,
      "outputs": [
        {
          "output_type": "stream",
          "name": "stdout",
          "text": [
            "tf.Tensor(\n",
            "[[4 7 5]\n",
            " [5 3 6]], shape=(2, 3), dtype=int32)\n"
          ]
        }
      ]
    },
    {
      "cell_type": "markdown",
      "source": [
        "**Indexing**"
      ],
      "metadata": {
        "id": "e6XHZP_5_lTK"
      }
    },
    {
      "cell_type": "code",
      "source": [
        "indexed_tensor = tf.constant([5, 6, 3, 8, 9, 12])\n",
        "print(indexed_tensor[:4])\n",
        "print(indexed_tensor[1:4])\n",
        "print(indexed_tensor[:5:2])\n",
        "print(indexed_tensor[:-1])"
      ],
      "metadata": {
        "colab": {
          "base_uri": "https://localhost:8080/"
        },
        "id": "SJuPz1KK_pml",
        "outputId": "a8ed8588-fddf-439f-ca3c-631ccadeb663"
      },
      "execution_count": 154,
      "outputs": [
        {
          "output_type": "stream",
          "name": "stdout",
          "text": [
            "tf.Tensor([5 6 3 8], shape=(4,), dtype=int32)\n",
            "tf.Tensor([6 3 8], shape=(3,), dtype=int32)\n",
            "tf.Tensor([5 3 9], shape=(3,), dtype=int32)\n",
            "tf.Tensor([5 6 3 8 9], shape=(5,), dtype=int32)\n"
          ]
        }
      ]
    },
    {
      "cell_type": "markdown",
      "source": [
        "**Maths Operations**"
      ],
      "metadata": {
        "id": "P0MFMDDxDDpW"
      }
    },
    {
      "cell_type": "code",
      "source": [
        "sample_x = tf.constant([-6, 12])\n",
        "print(tf.abs(sample_x))"
      ],
      "metadata": {
        "colab": {
          "base_uri": "https://localhost:8080/"
        },
        "id": "KmJZvKfNDIDS",
        "outputId": "3135a1df-ad33-46ba-c3bc-27ecde08a8cd"
      },
      "execution_count": 155,
      "outputs": [
        {
          "output_type": "stream",
          "name": "stdout",
          "text": [
            "tf.Tensor([ 6 12], shape=(2,), dtype=int32)\n"
          ]
        }
      ]
    },
    {
      "cell_type": "code",
      "source": [
        "complex_tensor = tf.constant(3 + 4j)\n",
        "print(tf.abs(complex_tensor))"
      ],
      "metadata": {
        "colab": {
          "base_uri": "https://localhost:8080/"
        },
        "id": "igo4NwlnEQTd",
        "outputId": "b5d8615e-73d2-4717-daba-fa5e9db7134f"
      },
      "execution_count": 156,
      "outputs": [
        {
          "output_type": "stream",
          "name": "stdout",
          "text": [
            "tf.Tensor(5.0, shape=(), dtype=float64)\n"
          ]
        }
      ]
    },
    {
      "cell_type": "code",
      "source": [
        "print(tf.sqrt(tf.constant(5**2, dtype = tf.float16)))"
      ],
      "metadata": {
        "colab": {
          "base_uri": "https://localhost:8080/"
        },
        "id": "mMmHbyNYEkLz",
        "outputId": "4a54f5e7-627b-42c8-febe-4daaa60ebd87"
      },
      "execution_count": 157,
      "outputs": [
        {
          "output_type": "stream",
          "name": "stdout",
          "text": [
            "tf.Tensor(5.0, shape=(), dtype=float16)\n"
          ]
        }
      ]
    },
    {
      "cell_type": "code",
      "source": [
        "x_1 = tf.ones([3, 2])\n",
        "x_2 = tf.fill([3, 2], 5.)\n",
        "print(x_1 + x_2)\n",
        "print(tf.add(x_1, x_2))"
      ],
      "metadata": {
        "colab": {
          "base_uri": "https://localhost:8080/"
        },
        "id": "ME_aKc9GEw_v",
        "outputId": "d0ccc8a6-d8b9-4174-e74f-1b367d978d73"
      },
      "execution_count": 158,
      "outputs": [
        {
          "output_type": "stream",
          "name": "stdout",
          "text": [
            "tf.Tensor(\n",
            "[[6. 6.]\n",
            " [6. 6.]\n",
            " [6. 6.]], shape=(3, 2), dtype=float32)\n",
            "tf.Tensor(\n",
            "[[6. 6.]\n",
            " [6. 6.]\n",
            " [6. 6.]], shape=(3, 2), dtype=float32)\n"
          ]
        }
      ]
    },
    {
      "cell_type": "code",
      "source": [
        "x_3 = tf.zeros([3, 2])\n",
        "print(tf.divide(x_1, x_3))\n",
        "print(tf.math.divide_no_nan(x_1, x_3))"
      ],
      "metadata": {
        "colab": {
          "base_uri": "https://localhost:8080/"
        },
        "id": "ZH45ZUeWFbIb",
        "outputId": "cadc21a4-b1d4-4b80-86f1-68263405821b"
      },
      "execution_count": 159,
      "outputs": [
        {
          "output_type": "stream",
          "name": "stdout",
          "text": [
            "tf.Tensor(\n",
            "[[inf inf]\n",
            " [inf inf]\n",
            " [inf inf]], shape=(3, 2), dtype=float32)\n",
            "tf.Tensor(\n",
            "[[0. 0.]\n",
            " [0. 0.]\n",
            " [0. 0.]], shape=(3, 2), dtype=float32)\n"
          ]
        }
      ]
    },
    {
      "cell_type": "code",
      "source": [
        "argmax_tensor_1 = tf.constant([100, 250, 15, 20])\n",
        "argmax_tensor_2 = tf.constant([[2, 20, 30, 3, 6],\n",
        "                            [3, 11, 16, 1, 8],\n",
        "                            [14, 45, 23, 5, 27]]\n",
        "                            )\n",
        "print(tf.math.argmax(argmax_tensor_1))\n",
        "print(tf.math.argmax(argmax_tensor_2))\n",
        "print(tf.math.argmax(argmax_tensor_2, 0))\n",
        "print(tf.math.argmin(argmax_tensor_2, 0))\n",
        "print(tf.math.argmax(argmax_tensor_2, 1))"
      ],
      "metadata": {
        "colab": {
          "base_uri": "https://localhost:8080/"
        },
        "id": "w4-3y0IxGlij",
        "outputId": "2b1a21f1-a286-463f-9626-86f596a1c8b6"
      },
      "execution_count": 160,
      "outputs": [
        {
          "output_type": "stream",
          "name": "stdout",
          "text": [
            "tf.Tensor(1, shape=(), dtype=int64)\n",
            "tf.Tensor([2 2 0 2 2], shape=(5,), dtype=int64)\n",
            "tf.Tensor([2 2 0 2 2], shape=(5,), dtype=int64)\n",
            "tf.Tensor([0 1 1 1 0], shape=(5,), dtype=int64)\n",
            "tf.Tensor([2 2 1], shape=(3,), dtype=int64)\n"
          ]
        }
      ]
    },
    {
      "cell_type": "code",
      "source": [
        "a = tf.constant([2, 4])\n",
        "b = tf.constant([2])\n",
        "print(tf.equal(a, b))"
      ],
      "metadata": {
        "colab": {
          "base_uri": "https://localhost:8080/"
        },
        "id": "TVg0ucWaMGIM",
        "outputId": "5bdb307e-a921-40ee-95b0-1090f4100591"
      },
      "execution_count": 161,
      "outputs": [
        {
          "output_type": "stream",
          "name": "stdout",
          "text": [
            "tf.Tensor([ True False], shape=(2,), dtype=bool)\n"
          ]
        }
      ]
    },
    {
      "cell_type": "code",
      "source": [
        "x = tf.constant([[2, 2], [3, 3]])\n",
        "y = tf.constant([[8, 16], [2, 3]])\n",
        "print(pow(x, y))"
      ],
      "metadata": {
        "colab": {
          "base_uri": "https://localhost:8080/"
        },
        "id": "37lz0aBOPBHV",
        "outputId": "1cd3f299-da2e-41b0-bd75-f2c44e0bbdd3"
      },
      "execution_count": 162,
      "outputs": [
        {
          "output_type": "stream",
          "name": "stdout",
          "text": [
            "tf.Tensor(\n",
            "[[  256 65536]\n",
            " [    9    27]], shape=(2, 2), dtype=int32)\n"
          ]
        }
      ]
    },
    {
      "cell_type": "code",
      "source": [
        "x = tf.constant([[1, -1, 1], [1, 1, 5]], dtype = tf.float16)\n",
        "print(tf.math.reduce_sum(x))\n",
        "print(tf.reduce_sum(x, 0, keepdims = True))\n",
        "print(tf.math.reduce_sum(x, 1))"
      ],
      "metadata": {
        "colab": {
          "base_uri": "https://localhost:8080/"
        },
        "id": "xxvZUdaaPOO8",
        "outputId": "ce2416fd-7ae7-405a-803e-688b9ca37696"
      },
      "execution_count": 163,
      "outputs": [
        {
          "output_type": "stream",
          "name": "stdout",
          "text": [
            "tf.Tensor(8.0, shape=(), dtype=float16)\n",
            "tf.Tensor([[2. 0. 6.]], shape=(1, 3), dtype=float16)\n",
            "tf.Tensor([1. 7.], shape=(2,), dtype=float16)\n"
          ]
        }
      ]
    },
    {
      "cell_type": "code",
      "source": [
        "print(tf.reduce_max(x))\n",
        "print(tf.reduce_min(x))\n",
        "print(tf.reduce_mean(x))"
      ],
      "metadata": {
        "colab": {
          "base_uri": "https://localhost:8080/"
        },
        "id": "IDgynk0VP2AN",
        "outputId": "8247b192-a98e-4cd5-b89c-992c12e473d5"
      },
      "execution_count": 164,
      "outputs": [
        {
          "output_type": "stream",
          "name": "stdout",
          "text": [
            "tf.Tensor(5.0, shape=(), dtype=float16)\n",
            "tf.Tensor(-1.0, shape=(), dtype=float16)\n",
            "tf.Tensor(1.333, shape=(), dtype=float16)\n"
          ]
        }
      ]
    },
    {
      "cell_type": "code",
      "source": [
        "x = tf.constant([[18, 11, 100, 20], [5, 12, 9, 15]])\n",
        "print(tf.math.top_k(x, 2))"
      ],
      "metadata": {
        "colab": {
          "base_uri": "https://localhost:8080/"
        },
        "id": "1kZTh5G7QnnN",
        "outputId": "b47d271c-99ff-4ac5-e570-cce431bc4f73"
      },
      "execution_count": 165,
      "outputs": [
        {
          "output_type": "stream",
          "name": "stdout",
          "text": [
            "TopKV2(values=<tf.Tensor: shape=(2, 2), dtype=int32, numpy=\n",
            "array([[100,  20],\n",
            "       [ 15,  12]], dtype=int32)>, indices=<tf.Tensor: shape=(2, 2), dtype=int32, numpy=\n",
            "array([[2, 3],\n",
            "       [3, 1]], dtype=int32)>)\n"
          ]
        }
      ]
    },
    {
      "cell_type": "markdown",
      "source": [
        "**Linear Algebra Operations**"
      ],
      "metadata": {
        "id": "ASmdYry6TLRr"
      }
    },
    {
      "cell_type": "code",
      "source": [
        "x_1 = tf.constant([[12, 5, 20],\n",
        "                   [18, 11, 25]])\n",
        "x_2 = tf.constant([[5, 9, 15, 20],\n",
        "                   [4, 3, 16, 24],\n",
        "                   [3, 7, 10, 6]])\n",
        "print(tf.linalg.matmul(x_1, x_2))\n",
        "print(x_1 @ x_2)"
      ],
      "metadata": {
        "colab": {
          "base_uri": "https://localhost:8080/"
        },
        "id": "xq0w6Zl2SH0H",
        "outputId": "fdf0b889-88d6-4fe1-e5be-b63a4c417adb"
      },
      "execution_count": 166,
      "outputs": [
        {
          "output_type": "stream",
          "name": "stdout",
          "text": [
            "tf.Tensor(\n",
            "[[140 263 460 480]\n",
            " [209 370 696 774]], shape=(2, 4), dtype=int32)\n",
            "tf.Tensor(\n",
            "[[140 263 460 480]\n",
            " [209 370 696 774]], shape=(2, 4), dtype=int32)\n"
          ]
        }
      ]
    },
    {
      "cell_type": "code",
      "source": [
        "print(tf.transpose(x_2))"
      ],
      "metadata": {
        "colab": {
          "base_uri": "https://localhost:8080/"
        },
        "id": "dvqsJuhNVkXQ",
        "outputId": "a01383df-ae74-4d05-89a0-5f2d4bd43b4b"
      },
      "execution_count": 167,
      "outputs": [
        {
          "output_type": "stream",
          "name": "stdout",
          "text": [
            "tf.Tensor(\n",
            "[[ 5  4  3]\n",
            " [ 9  3  7]\n",
            " [15 16 10]\n",
            " [20 24  6]], shape=(4, 3), dtype=int32)\n"
          ]
        }
      ]
    },
    {
      "cell_type": "code",
      "source": [
        "x_1 = tf.constant([[12, 5, 20],\n",
        "                   [18, 11, 25]])\n",
        "x_3 = tf.constant([[5, 9, 15],\n",
        "                   [4, 3, 16],\n",
        "                   [5, 9, 16],\n",
        "                   [15, 6, 10]])\n",
        "print(tf.linalg.matmul(x_1, x_3, transpose_b = True))"
      ],
      "metadata": {
        "colab": {
          "base_uri": "https://localhost:8080/"
        },
        "id": "Dq6Gk4MSYCfw",
        "outputId": "8bc81629-9f5b-4c1c-8812-4d2cd74ee0a9"
      },
      "execution_count": 168,
      "outputs": [
        {
          "output_type": "stream",
          "name": "stdout",
          "text": [
            "tf.Tensor(\n",
            "[[405 383 425 410]\n",
            " [564 505 589 586]], shape=(2, 4), dtype=int32)\n"
          ]
        }
      ]
    },
    {
      "cell_type": "code",
      "source": [
        "x_4 = tf.constant([[4, 5, 6]])\n",
        "x_5 = tf.constant([[9], [10], [1]])\n",
        "print(x_4@x_5)"
      ],
      "metadata": {
        "colab": {
          "base_uri": "https://localhost:8080/"
        },
        "id": "m6MWyqWPn4j1",
        "outputId": "42fa5e79-41e6-4613-ea40-bc20b6c63e43"
      },
      "execution_count": 169,
      "outputs": [
        {
          "output_type": "stream",
          "name": "stdout",
          "text": [
            "tf.Tensor([[92]], shape=(1, 1), dtype=int32)\n"
          ]
        }
      ]
    },
    {
      "cell_type": "code",
      "source": [
        "a = tf.random.uniform((3, 2, 3), dtype = tf.int32, minval = 1, maxval = 10)\n",
        "b = tf.random.uniform((3, 3, 5), dtype = tf.int32, minval = 1, maxval = 10)\n",
        "print(a)\n",
        "print(b)\n",
        "print(a@b)"
      ],
      "metadata": {
        "colab": {
          "base_uri": "https://localhost:8080/"
        },
        "id": "VCGsawRPeQvL",
        "outputId": "4d75e3f0-dbb3-4120-d7f5-59a10b009258"
      },
      "execution_count": 170,
      "outputs": [
        {
          "output_type": "stream",
          "name": "stdout",
          "text": [
            "tf.Tensor(\n",
            "[[[8 2 5]\n",
            "  [6 9 2]]\n",
            "\n",
            " [[9 2 5]\n",
            "  [6 3 2]]\n",
            "\n",
            " [[9 4 8]\n",
            "  [6 6 1]]], shape=(3, 2, 3), dtype=int32)\n",
            "tf.Tensor(\n",
            "[[[9 3 4 8 6]\n",
            "  [7 8 7 3 9]\n",
            "  [5 4 7 5 8]]\n",
            "\n",
            " [[9 9 7 5 7]\n",
            "  [3 1 3 5 6]\n",
            "  [8 8 5 3 3]]\n",
            "\n",
            " [[7 1 5 1 2]\n",
            "  [6 4 4 2 4]\n",
            "  [9 3 5 3 7]]], shape=(3, 3, 5), dtype=int32)\n",
            "tf.Tensor(\n",
            "[[[111  60  81  95 106]\n",
            "  [127  98 101  85 133]]\n",
            "\n",
            " [[127 123  94  70  90]\n",
            "  [ 79  73  61  51  66]]\n",
            "\n",
            " [[159  49 101  41  90]\n",
            "  [ 87  33  59  21  43]]], shape=(3, 2, 5), dtype=int32)\n"
          ]
        }
      ]
    },
    {
      "cell_type": "code",
      "source": [
        "test_a = tf.constant([[5, 8, 5], [8, 2, 1]])\n",
        "test_b = tf.constant([[1, 7, 4, 1, 9],\n",
        "  [2, 6, 3, 6, 7,],\n",
        "  [5, 7, 4, 5, 7,]])\n",
        "print(test_a@test_b)"
      ],
      "metadata": {
        "colab": {
          "base_uri": "https://localhost:8080/"
        },
        "id": "ii7hrpqcfc5b",
        "outputId": "60765039-6efc-4c9f-957a-464ee48d05cb"
      },
      "execution_count": 171,
      "outputs": [
        {
          "output_type": "stream",
          "name": "stdout",
          "text": [
            "tf.Tensor(\n",
            "[[ 46 118  64  78 136]\n",
            " [ 17  75  42  25  93]], shape=(2, 5), dtype=int32)\n"
          ]
        }
      ]
    },
    {
      "cell_type": "code",
      "source": [
        "band_tensor = tf.constant([\n",
        "    [ 0,  5,  2, 3],\n",
        "    [-1,  0,  1, 2],\n",
        "    [-2, -1,  0, 1],\n",
        "    [-3, -2, -1, 0]\n",
        "                           ])\n",
        "print(tf.linalg.band_part(band_tensor, 2, -1))\n",
        "print(tf.linalg.band_part(band_tensor, 1, 1))"
      ],
      "metadata": {
        "colab": {
          "base_uri": "https://localhost:8080/"
        },
        "id": "xkIZ6ISog9jc",
        "outputId": "d1c62119-f63f-4ded-b7c4-8a34722e15af"
      },
      "execution_count": 172,
      "outputs": [
        {
          "output_type": "stream",
          "name": "stdout",
          "text": [
            "tf.Tensor(\n",
            "[[ 0  5  2  3]\n",
            " [-1  0  1  2]\n",
            " [-2 -1  0  1]\n",
            " [ 0 -2 -1  0]], shape=(4, 4), dtype=int32)\n",
            "tf.Tensor(\n",
            "[[ 0  5  0  0]\n",
            " [-1  0  1  0]\n",
            " [ 0 -1  0  1]\n",
            " [ 0  0 -1  0]], shape=(4, 4), dtype=int32)\n"
          ]
        }
      ]
    },
    {
      "cell_type": "markdown",
      "source": [
        "**Explanation of tf.linalg.band_part(input, num_lower, num_upper)**  \n",
        "*m: the index of the row*  \n",
        "*n: the index of the column*  \n",
        "Considering a 4x4 matrix, then:\n",
        "```  \n",
        "tensor_m_n = [  \n",
        "[0, -1, -2, -3],  \n",
        "[1, 0, -1, -2],  \n",
        "[2, 1, 0, -1],  \n",
        "[3, 2, 1, 0]]  \n",
        "tensor_n_m = [  \n",
        "[0, 1, 2, 3],  \n",
        "[-1, 0, 1, 2],  \n",
        "[-2, -1, 0, 1],  \n",
        "[-3, -2, -1, 0]]\n",
        "```\n",
        "Considering an element [m, n], then:  \n",
        "`in_band(m, n) = (num_lower < 0 || (m-n) <= num_lower) && (num_upper < 0 || (n-m) <= num_upper)`  \n",
        "In short:\n",
        "- `num_lower` indicates the number of subdiagonals to keep. If negative, keep entire lower triangle.\n",
        "- `num_upper` indicates the number of superdiagonals to keep. If negative, keep entire upper triangle.  \n",
        "\n",
        "Explanation:\n",
        "- If `num_lower < 0` or `num_upper < 0`, this is an easy case.\n",
        "- Looking at a point in the lower half of the diagonal, then its `m-n` will be positive, and will be compared to `num_lower`, which is easy to understand. Its `n-m` will then be negative, and `n-m <= num_upper` will always be true (since `num_upper > 0`)\n",
        "- Similar to a point in the upper half of the diagonal."
      ],
      "metadata": {
        "id": "AU0dTST5Hnkq"
      }
    },
    {
      "cell_type": "markdown",
      "source": [
        "**Einsum**"
      ],
      "metadata": {
        "id": "bM6bLx2jYWCa"
      }
    },
    {
      "cell_type": "code",
      "source": [
        "A = tf.random.uniform([4,5], 0, 20, dtype = tf.int32)\n",
        "B = tf.random.uniform([5,2], 5, 25, dtype = tf.int32)\n",
        "print(\"Matmul: C = \", tf.matmul(A, B))\n",
        "print(\"Einsum: C = \", \"\\n\", np.einsum(\"ij, jk -> ik\", A, B))"
      ],
      "metadata": {
        "colab": {
          "base_uri": "https://localhost:8080/"
        },
        "id": "xxDIOVPdyNaJ",
        "outputId": "a6d54f42-5814-49d9-da8d-e7401ce5651d"
      },
      "execution_count": 173,
      "outputs": [
        {
          "output_type": "stream",
          "name": "stdout",
          "text": [
            "Matmul: C =  tf.Tensor(\n",
            "[[637 638]\n",
            " [679 815]\n",
            " [569 544]\n",
            " [724 881]], shape=(4, 2), dtype=int32)\n",
            "Einsum: C =  \n",
            " [[637 638]\n",
            " [679 815]\n",
            " [569 544]\n",
            " [724 881]]\n"
          ]
        }
      ]
    },
    {
      "cell_type": "code",
      "source": [
        "A = tf.random.uniform([4, 5], 0, 20, dtype = tf.int32)\n",
        "B = tf.random.uniform([4, 5], 5, 25, dtype = tf.int32)\n",
        "print(\"Element-wise multiplication: C = \", A*B)\n",
        "print(\"Einsum: C = \\n\", np.einsum(\"ij, ij -> ij\", A, B))"
      ],
      "metadata": {
        "colab": {
          "base_uri": "https://localhost:8080/"
        },
        "id": "KrZvygM1Xp-Y",
        "outputId": "d48df303-22c3-438f-9dec-19944a042741"
      },
      "execution_count": 174,
      "outputs": [
        {
          "output_type": "stream",
          "name": "stdout",
          "text": [
            "Element-wise multiplication: C =  tf.Tensor(\n",
            "[[208  80 140  28   8]\n",
            " [216 176 126   0 154]\n",
            " [288  12  56 414 414]\n",
            " [272  85  56   0 165]], shape=(4, 5), dtype=int32)\n",
            "Einsum: C = \n",
            " [[208  80 140  28   8]\n",
            " [216 176 126   0 154]\n",
            " [288  12  56 414 414]\n",
            " [272  85  56   0 165]]\n"
          ]
        }
      ]
    },
    {
      "cell_type": "markdown",
      "source": [
        "If we're only dealing with one matrix (say, when we're calculatating the transpose of matrix A), then -> is not needed."
      ],
      "metadata": {
        "id": "FEvilIBVY2_V"
      }
    },
    {
      "cell_type": "code",
      "source": [
        "A = tf.random.uniform([4, 5], 0, 20, dtype = tf.int32)\n",
        "print(\"Transpose: AT = \", tf.transpose(A))\n",
        "print(\"Einsum: AT = \\n\", np.einsum(\"ji\", A))"
      ],
      "metadata": {
        "colab": {
          "base_uri": "https://localhost:8080/"
        },
        "id": "6CHleO90YPkf",
        "outputId": "c3cbccc8-f7bc-42c0-fcdf-038cec8294e9"
      },
      "execution_count": 175,
      "outputs": [
        {
          "output_type": "stream",
          "name": "stdout",
          "text": [
            "Transpose: AT =  tf.Tensor(\n",
            "[[10  5 13  9]\n",
            " [16  9 13 13]\n",
            " [ 9  6  1 17]\n",
            " [ 8 16  1  0]\n",
            " [ 3 13 10  9]], shape=(5, 4), dtype=int32)\n",
            "Einsum: AT = \n",
            " [[10  5 13  9]\n",
            " [16  9 13 13]\n",
            " [ 9  6  1 17]\n",
            " [ 8 16  1  0]\n",
            " [ 3 13 10  9]]\n"
          ]
        }
      ]
    },
    {
      "cell_type": "code",
      "source": [
        "A = tf.random.uniform([2, 3, 4], 0, 25, dtype = tf.int32)\n",
        "B = tf.random.uniform([2, 4, 5], 0, 25, dtype = tf.int32)\n",
        "\n",
        "print(\"Matmul: C = \", tf.matmul(A, B))\n",
        "print(\"Einsum: C = \\n\", np.einsum(\"bij, bjk -> bik\", A, B))"
      ],
      "metadata": {
        "colab": {
          "base_uri": "https://localhost:8080/"
        },
        "id": "ODkOiemyYo2n",
        "outputId": "717f2813-de31-47d5-cf89-e9f646d6dd86"
      },
      "execution_count": 176,
      "outputs": [
        {
          "output_type": "stream",
          "name": "stdout",
          "text": [
            "Matmul: C =  tf.Tensor(\n",
            "[[[ 997  713  692  678  464]\n",
            "  [ 357  165  236  225  154]\n",
            "  [1328  792  773  782  644]]\n",
            "\n",
            " [[ 806  906 1073  743 1121]\n",
            "  [ 338  321  509  524  497]\n",
            "  [ 349  561  735  599  700]]], shape=(2, 3, 5), dtype=int32)\n",
            "Einsum: C = \n",
            " [[[ 997  713  692  678  464]\n",
            "  [ 357  165  236  225  154]\n",
            "  [1328  792  773  782  644]]\n",
            "\n",
            " [[ 806  906 1073  743 1121]\n",
            "  [ 338  321  509  524  497]\n",
            "  [ 349  561  735  599  700]]]\n"
          ]
        }
      ]
    },
    {
      "cell_type": "markdown",
      "source": [
        "A scalar, which has zero dimension, is represented with nothing, a void"
      ],
      "metadata": {
        "id": "mtYdH4p_bYuF"
      }
    },
    {
      "cell_type": "code",
      "source": [
        "A = tf.random.uniform([2, 3, 4], 0, 25, dtype = tf.int32)\n",
        "\n",
        "print(\"Sum =\", np.sum(A))\n",
        "print(\"Einsum =\", np.einsum(\"bij -> \", A))"
      ],
      "metadata": {
        "colab": {
          "base_uri": "https://localhost:8080/"
        },
        "id": "rAZmQ1nxa8_Y",
        "outputId": "6b8233ca-084e-4f93-d7e3-84d7e13684e8"
      },
      "execution_count": 177,
      "outputs": [
        {
          "output_type": "stream",
          "name": "stdout",
          "text": [
            "Sum = 243\n",
            "Einsum = 243\n"
          ]
        }
      ]
    },
    {
      "cell_type": "markdown",
      "source": [
        "The axis that we choose to perform calculation on will be deprecated. For instance, if we perform calculation on `axis = 0` then the axis 0 will be deprecated (b)"
      ],
      "metadata": {
        "id": "ULwauYpGdjMk"
      }
    },
    {
      "cell_type": "code",
      "source": [
        "A = tf.random.uniform([2, 3, 4], 0, 25, dtype = tf.int32)\n",
        "print(A)\n",
        "\n",
        "print(\"\\n\")\n",
        "\n",
        "print(\"Sum 0 =\\n\", np.sum(A, 0))\n",
        "print(\"Einsum 0 =\\n\", np.einsum(\"bij -> ij\", A))\n",
        "\n",
        "print(\"\\n\")\n",
        "\n",
        "print(\"Sum 1 =\\n\", np.sum(A, 1))\n",
        "print(\"Einsum 1 =\\n\", np.einsum(\"bij -> bj\", A))\n",
        "\n",
        "print(\"\\n\")\n",
        "\n",
        "print(\"Sum 2 =\\n\", np.sum(A, 2))\n",
        "print(\"Einsum 2 =\\n\", np.einsum(\"bij -> bi\", A))"
      ],
      "metadata": {
        "colab": {
          "base_uri": "https://localhost:8080/"
        },
        "id": "rS4pr_L2c5Lp",
        "outputId": "7791bade-1ebe-4589-d94d-12664dd635d9"
      },
      "execution_count": 178,
      "outputs": [
        {
          "output_type": "stream",
          "name": "stdout",
          "text": [
            "tf.Tensor(\n",
            "[[[ 8  3 19 20]\n",
            "  [21  8  2  0]\n",
            "  [ 4 15 14  9]]\n",
            "\n",
            " [[11 18 14  2]\n",
            "  [20  3 23 17]\n",
            "  [15  0 16  8]]], shape=(2, 3, 4), dtype=int32)\n",
            "\n",
            "\n",
            "Sum 0 =\n",
            " [[19 21 33 22]\n",
            " [41 11 25 17]\n",
            " [19 15 30 17]]\n",
            "Einsum 0 =\n",
            " [[19 21 33 22]\n",
            " [41 11 25 17]\n",
            " [19 15 30 17]]\n",
            "\n",
            "\n",
            "Sum 1 =\n",
            " [[33 26 35 29]\n",
            " [46 21 53 27]]\n",
            "Einsum 1 =\n",
            " [[33 26 35 29]\n",
            " [46 21 53 27]]\n",
            "\n",
            "\n",
            "Sum 2 =\n",
            " [[50 31 42]\n",
            " [45 63 39]]\n",
            "Einsum 2 =\n",
            " [[50 31 42]\n",
            " [45 63 39]]\n"
          ]
        }
      ]
    },
    {
      "cell_type": "code",
      "source": [
        "A = tf.random.uniform([2, 3, 4], 0, 25, dtype = tf.int32)\n",
        "print(A)\n",
        "print(\"Shape before:\", A.shape)\n",
        "print(\"\\n\")\n",
        "\n",
        "A_expand = tf.expand_dims(A, axis = 1)\n",
        "print(A_expand)\n",
        "print(\"Shape expand:\", A_expand.shape)\n",
        "\n",
        "A_squeeze = tf.squeeze(A_expand)\n",
        "print(A_squeeze)\n",
        "print(\"Shape squeeze:\", A_squeeze.shape)"
      ],
      "metadata": {
        "colab": {
          "base_uri": "https://localhost:8080/"
        },
        "id": "GPr9zHg4dccA",
        "outputId": "7365c1ee-4ca8-4491-cd6e-5ed2cef34ea7"
      },
      "execution_count": 179,
      "outputs": [
        {
          "output_type": "stream",
          "name": "stdout",
          "text": [
            "tf.Tensor(\n",
            "[[[ 3 20  1  8]\n",
            "  [13  4 14 21]\n",
            "  [ 0 23 22  8]]\n",
            "\n",
            " [[ 3 17 23  9]\n",
            "  [ 1  7 12  6]\n",
            "  [ 9 18 22 18]]], shape=(2, 3, 4), dtype=int32)\n",
            "Shape before: (2, 3, 4)\n",
            "\n",
            "\n",
            "tf.Tensor(\n",
            "[[[[ 3 20  1  8]\n",
            "   [13  4 14 21]\n",
            "   [ 0 23 22  8]]]\n",
            "\n",
            "\n",
            " [[[ 3 17 23  9]\n",
            "   [ 1  7 12  6]\n",
            "   [ 9 18 22 18]]]], shape=(2, 1, 3, 4), dtype=int32)\n",
            "Shape expand: (2, 1, 3, 4)\n",
            "tf.Tensor(\n",
            "[[[ 3 20  1  8]\n",
            "  [13  4 14 21]\n",
            "  [ 0 23 22  8]]\n",
            "\n",
            " [[ 3 17 23  9]\n",
            "  [ 1  7 12  6]\n",
            "  [ 9 18 22 18]]], shape=(2, 3, 4), dtype=int32)\n",
            "Shape squeeze: (2, 3, 4)\n"
          ]
        }
      ]
    },
    {
      "cell_type": "code",
      "source": [
        "A = tf.random.uniform([1, 4, 1, 3, 1, 5], 0, 25, dtype = tf.int32)\n",
        "print(tf.squeeze(A).shape)\n",
        "print(tf.squeeze(A, 0).shape)"
      ],
      "metadata": {
        "colab": {
          "base_uri": "https://localhost:8080/"
        },
        "id": "mHznXb2mqDqq",
        "outputId": "5f62b71f-0013-44b3-c25b-e522306f4aa4"
      },
      "execution_count": 180,
      "outputs": [
        {
          "output_type": "stream",
          "name": "stdout",
          "text": [
            "(4, 3, 5)\n",
            "(4, 1, 3, 1, 5)\n"
          ]
        }
      ]
    },
    {
      "cell_type": "code",
      "source": [
        "a = tf.random.uniform([2, 3], 0, 20, dtype = tf.int32)\n",
        "print(a)\n",
        "\n",
        "print(tf.reshape(a, [3, 2]))\n",
        "print(tf.reshape(a, [6]))\n",
        "print(tf.reshape(a, [2, -1]))\n",
        "print(tf.reshape(a, [-1]))"
      ],
      "metadata": {
        "colab": {
          "base_uri": "https://localhost:8080/"
        },
        "id": "7sLCNsi_vix0",
        "outputId": "47d44f9a-60ac-4ad9-9844-8b45ce140d43"
      },
      "execution_count": 181,
      "outputs": [
        {
          "output_type": "stream",
          "name": "stdout",
          "text": [
            "tf.Tensor(\n",
            "[[19 13 19]\n",
            " [18 10 18]], shape=(2, 3), dtype=int32)\n",
            "tf.Tensor(\n",
            "[[19 13]\n",
            " [19 18]\n",
            " [10 18]], shape=(3, 2), dtype=int32)\n",
            "tf.Tensor([19 13 19 18 10 18], shape=(6,), dtype=int32)\n",
            "tf.Tensor(\n",
            "[[19 13 19]\n",
            " [18 10 18]], shape=(2, 3), dtype=int32)\n",
            "tf.Tensor([19 13 19 18 10 18], shape=(6,), dtype=int32)\n"
          ]
        }
      ]
    },
    {
      "cell_type": "markdown",
      "source": [
        "**tf.concat**  \n",
        "All of the other axes must have the same shape, except for the axis that is being concatenated."
      ],
      "metadata": {
        "id": "AfZAo7QtW3Ht"
      }
    },
    {
      "cell_type": "code",
      "source": [
        "a = tf.random.uniform([2, 4], 0, 10, dtype = tf.int32)\n",
        "b = tf.random.uniform([3, 4], 10, 20, dtype = tf.int32)\n",
        "print(a)\n",
        "print(b)\n",
        "print(tf.concat([a, b], axis = 0))\n",
        "\n",
        "c = tf.random.uniform([2, 5], 0, 10, dtype = tf.int32)\n",
        "d = tf.random.uniform([2, 4], 10, 20, dtype = tf.int32)\n",
        "print(c)\n",
        "print(d)\n",
        "print(tf.concat([c, d], axis = 1))"
      ],
      "metadata": {
        "colab": {
          "base_uri": "https://localhost:8080/"
        },
        "id": "IUAqtrCNUd56",
        "outputId": "fa356841-5f63-4000-a132-f835037718c6"
      },
      "execution_count": 182,
      "outputs": [
        {
          "output_type": "stream",
          "name": "stdout",
          "text": [
            "tf.Tensor(\n",
            "[[8 1 7 0]\n",
            " [5 3 1 1]], shape=(2, 4), dtype=int32)\n",
            "tf.Tensor(\n",
            "[[14 15 14 14]\n",
            " [10 19 14 18]\n",
            " [17 10 12 18]], shape=(3, 4), dtype=int32)\n",
            "tf.Tensor(\n",
            "[[ 8  1  7  0]\n",
            " [ 5  3  1  1]\n",
            " [14 15 14 14]\n",
            " [10 19 14 18]\n",
            " [17 10 12 18]], shape=(5, 4), dtype=int32)\n",
            "tf.Tensor(\n",
            "[[7 7 0 0 6]\n",
            " [0 5 6 3 6]], shape=(2, 5), dtype=int32)\n",
            "tf.Tensor(\n",
            "[[12 19 15 19]\n",
            " [15 14 14 10]], shape=(2, 4), dtype=int32)\n",
            "tf.Tensor(\n",
            "[[ 7  7  0  0  6 12 19 15 19]\n",
            " [ 0  5  6  3  6 15 14 14 10]], shape=(2, 9), dtype=int32)\n"
          ]
        }
      ]
    },
    {
      "cell_type": "code",
      "source": [
        "a = tf.random.uniform([3, 4], 0, 10, dtype = tf.int32)\n",
        "b = tf.random.uniform([3, 4], 10, 20, dtype = tf.int32)\n",
        "print(a)\n",
        "print(b)\n",
        "print(tf.stack([a, b], axis = 0))\n",
        "\n",
        "c = tf.random.uniform([3, 5], 0, 10, dtype = tf.int32)\n",
        "d = tf.random.uniform([3, 5], 10, 20, dtype = tf.int32)\n",
        "print(c)\n",
        "print(d)\n",
        "print(tf.stack([c, d], axis = 2))"
      ],
      "metadata": {
        "colab": {
          "base_uri": "https://localhost:8080/"
        },
        "id": "1IYrmmrqWubr",
        "outputId": "25161100-6a57-4858-e5e1-8497db0075c2"
      },
      "execution_count": 183,
      "outputs": [
        {
          "output_type": "stream",
          "name": "stdout",
          "text": [
            "tf.Tensor(\n",
            "[[4 1 6 1]\n",
            " [8 5 3 9]\n",
            " [6 6 3 2]], shape=(3, 4), dtype=int32)\n",
            "tf.Tensor(\n",
            "[[18 10 16 15]\n",
            " [10 16 16 11]\n",
            " [17 18 16 18]], shape=(3, 4), dtype=int32)\n",
            "tf.Tensor(\n",
            "[[[ 4  1  6  1]\n",
            "  [ 8  5  3  9]\n",
            "  [ 6  6  3  2]]\n",
            "\n",
            " [[18 10 16 15]\n",
            "  [10 16 16 11]\n",
            "  [17 18 16 18]]], shape=(2, 3, 4), dtype=int32)\n",
            "tf.Tensor(\n",
            "[[3 5 8 2 0]\n",
            " [6 5 6 0 3]\n",
            " [3 1 9 7 6]], shape=(3, 5), dtype=int32)\n",
            "tf.Tensor(\n",
            "[[15 11 16 19 18]\n",
            " [10 18 13 12 16]\n",
            " [18 17 18 10 10]], shape=(3, 5), dtype=int32)\n",
            "tf.Tensor(\n",
            "[[[ 3 15]\n",
            "  [ 5 11]\n",
            "  [ 8 16]\n",
            "  [ 2 19]\n",
            "  [ 0 18]]\n",
            "\n",
            " [[ 6 10]\n",
            "  [ 5 18]\n",
            "  [ 6 13]\n",
            "  [ 0 12]\n",
            "  [ 3 16]]\n",
            "\n",
            " [[ 3 18]\n",
            "  [ 1 17]\n",
            "  [ 9 18]\n",
            "  [ 7 10]\n",
            "  [ 6 10]]], shape=(3, 5, 2), dtype=int32)\n"
          ]
        }
      ]
    },
    {
      "cell_type": "code",
      "source": [
        "a = tf.random.uniform([3, 4], 0, 10, dtype = tf.int32)\n",
        "b = tf.random.uniform([3, 4], 10, 20, dtype = tf.int32)\n",
        "print(a)\n",
        "print(b)\n",
        "print(tf.stack([a, b], axis = 0))\n",
        "print(tf.concat([tf.expand_dims(t, axis = 0) for t in [a, b]], axis = 0))"
      ],
      "metadata": {
        "colab": {
          "base_uri": "https://localhost:8080/"
        },
        "id": "UTblVxR_YwjY",
        "outputId": "94f2dcee-59e5-4c3e-b85f-31b94ae4eba5"
      },
      "execution_count": 184,
      "outputs": [
        {
          "output_type": "stream",
          "name": "stdout",
          "text": [
            "tf.Tensor(\n",
            "[[5 8 0 2]\n",
            " [8 4 7 9]\n",
            " [7 3 5 8]], shape=(3, 4), dtype=int32)\n",
            "tf.Tensor(\n",
            "[[14 15 14 14]\n",
            " [11 18 10 11]\n",
            " [10 11 13 16]], shape=(3, 4), dtype=int32)\n",
            "tf.Tensor(\n",
            "[[[ 5  8  0  2]\n",
            "  [ 8  4  7  9]\n",
            "  [ 7  3  5  8]]\n",
            "\n",
            " [[14 15 14 14]\n",
            "  [11 18 10 11]\n",
            "  [10 11 13 16]]], shape=(2, 3, 4), dtype=int32)\n",
            "tf.Tensor(\n",
            "[[[ 5  8  0  2]\n",
            "  [ 8  4  7  9]\n",
            "  [ 7  3  5  8]]\n",
            "\n",
            " [[14 15 14 14]\n",
            "  [11 18 10 11]\n",
            "  [10 11 13 16]]], shape=(2, 3, 4), dtype=int32)\n"
          ]
        }
      ]
    },
    {
      "cell_type": "code",
      "source": [
        "t = tf.constant([[1, 2, 3], [4, 5, 6]])\n",
        "paddings = tf.constant([[1, 2], [3, 2]])\n",
        "\n",
        "print(tf.pad(t, paddings, \"CONSTANT\"))"
      ],
      "metadata": {
        "colab": {
          "base_uri": "https://localhost:8080/"
        },
        "id": "Qgb2F2akj9IG",
        "outputId": "ab44b558-c31a-444f-af3e-9d91273975e6"
      },
      "execution_count": 185,
      "outputs": [
        {
          "output_type": "stream",
          "name": "stdout",
          "text": [
            "tf.Tensor(\n",
            "[[0 0 0 0 0 0 0 0]\n",
            " [0 0 0 1 2 3 0 0]\n",
            " [0 0 0 4 5 6 0 0]\n",
            " [0 0 0 0 0 0 0 0]\n",
            " [0 0 0 0 0 0 0 0]], shape=(5, 8), dtype=int32)\n"
          ]
        }
      ]
    },
    {
      "cell_type": "markdown",
      "source": [
        "This operation pads a tensor according to the paddings you specify. `paddings` is an integer tensor with shape `[n, 2]`, where n is the rank of tensor. For each dimension D of input, paddings `[D, 0]` indicates how many values to add before the contents of tensor in that dimension, and paddings `[D, 1]` indicates how many values to add after the contents of tensor in that dimension. If `mode` is \"REFLECT\" then both paddings`[D, 0]` and paddings `[D, 1]` must be no greater than tensor.`dim_size(D) - 1` (Size/Number of elements of dimension D). If mode is `\"SYMMETRIC\"` then both paddings `[D, 0]` and paddings`[D, 1]` must be no greater than `tensor.dim_size(D)`."
      ],
      "metadata": {
        "id": "Zkthx7uFEjl9"
      }
    },
    {
      "cell_type": "code",
      "source": [
        "t = tf.constant([[1, 2, 3], [4, 5, 6]])\n",
        "paddings = tf.constant([[1, 1], [2, 2]])\n",
        "# 'constant_values' is 0.\n",
        "# rank of 't' is 2.\n",
        "print(tf.pad(t, paddings, \"REFLECT\"))\n",
        "print(tf.pad(t, paddings, \"SYMMETRIC\"))"
      ],
      "metadata": {
        "colab": {
          "base_uri": "https://localhost:8080/"
        },
        "id": "_CaiL4cnmGLl",
        "outputId": "790308e7-013f-4c2e-caf3-033b917b2626"
      },
      "execution_count": 186,
      "outputs": [
        {
          "output_type": "stream",
          "name": "stdout",
          "text": [
            "tf.Tensor(\n",
            "[[6 5 4 5 6 5 4]\n",
            " [3 2 1 2 3 2 1]\n",
            " [6 5 4 5 6 5 4]\n",
            " [3 2 1 2 3 2 1]], shape=(4, 7), dtype=int32)\n",
            "tf.Tensor(\n",
            "[[2 1 1 2 3 3 2]\n",
            " [2 1 1 2 3 3 2]\n",
            " [5 4 4 5 6 6 5]\n",
            " [5 4 4 5 6 6 5]], shape=(4, 7), dtype=int32)\n"
          ]
        }
      ]
    },
    {
      "cell_type": "code",
      "source": [
        "params = tf.constant([5, 6, 9, 14, 12, 20])\n",
        "tf_gather_1 = tf.gather(params, [2, 5, 0])\n",
        "print(tf_gather_1)\n",
        "tf_gather_2 = tf.gather(params, tf.range(1, 5))\n",
        "print(tf_gather_2)"
      ],
      "metadata": {
        "colab": {
          "base_uri": "https://localhost:8080/"
        },
        "id": "q-R26IBTveOT",
        "outputId": "307c0bda-d402-48af-f319-ad5d80ef2e62"
      },
      "execution_count": 187,
      "outputs": [
        {
          "output_type": "stream",
          "name": "stdout",
          "text": [
            "tf.Tensor([ 9 20  5], shape=(3,), dtype=int32)\n",
            "tf.Tensor([ 6  9 14 12], shape=(4,), dtype=int32)\n"
          ]
        }
      ]
    },
    {
      "cell_type": "code",
      "source": [
        "params = tf.random.uniform([4, 5], 0, 20, dtype = tf.int32)\n",
        "print(params)\n",
        "a = tf.gather(params, [0, 2], axis = 0)\n",
        "print(a)\n",
        "b = tf.gather(params, [0, 2], axis = 1)\n",
        "print(b)"
      ],
      "metadata": {
        "colab": {
          "base_uri": "https://localhost:8080/"
        },
        "id": "atfAZ6Q5U85F",
        "outputId": "e86e2a8f-1e77-4463-8615-af3c1b9e5af8"
      },
      "execution_count": 188,
      "outputs": [
        {
          "output_type": "stream",
          "name": "stdout",
          "text": [
            "tf.Tensor(\n",
            "[[18  8 19 19  6]\n",
            " [17  3  3 13  1]\n",
            " [ 9  1 13 11  9]\n",
            " [ 3 16 18 18 13]], shape=(4, 5), dtype=int32)\n",
            "tf.Tensor(\n",
            "[[18  8 19 19  6]\n",
            " [ 9  1 13 11  9]], shape=(2, 5), dtype=int32)\n",
            "tf.Tensor(\n",
            "[[18 19]\n",
            " [17  3]\n",
            " [ 9 13]\n",
            " [ 3 18]], shape=(4, 2), dtype=int32)\n"
          ]
        }
      ]
    },
    {
      "cell_type": "code",
      "source": [
        "params = tf.random.uniform([2, 4, 5], 0, 30, dtype = tf.int32)\n",
        "print(params)\n",
        "a = tf.gather(params, [0, 1], axis = 0)\n",
        "print(a)\n",
        "b = tf.gather(params, [2, 0], axis = 1)\n",
        "print(b)"
      ],
      "metadata": {
        "colab": {
          "base_uri": "https://localhost:8080/"
        },
        "id": "eG47rRSOKQ_R",
        "outputId": "1e228252-8bde-4358-8265-a77a1fbb6c22"
      },
      "execution_count": 189,
      "outputs": [
        {
          "output_type": "stream",
          "name": "stdout",
          "text": [
            "tf.Tensor(\n",
            "[[[ 2 28 11 14 29]\n",
            "  [ 1  6 17 18 22]\n",
            "  [10 23 11 17 22]\n",
            "  [20 15 20 15 13]]\n",
            "\n",
            " [[29 10  0 26 18]\n",
            "  [15 21  3 29 23]\n",
            "  [29 29  6  6 15]\n",
            "  [ 2  9 19 26 18]]], shape=(2, 4, 5), dtype=int32)\n",
            "tf.Tensor(\n",
            "[[[ 2 28 11 14 29]\n",
            "  [ 1  6 17 18 22]\n",
            "  [10 23 11 17 22]\n",
            "  [20 15 20 15 13]]\n",
            "\n",
            " [[29 10  0 26 18]\n",
            "  [15 21  3 29 23]\n",
            "  [29 29  6  6 15]\n",
            "  [ 2  9 19 26 18]]], shape=(2, 4, 5), dtype=int32)\n",
            "tf.Tensor(\n",
            "[[[10 23 11 17 22]\n",
            "  [ 2 28 11 14 29]]\n",
            "\n",
            " [[29 29  6  6 15]\n",
            "  [29 10  0 26 18]]], shape=(2, 2, 5), dtype=int32)\n"
          ]
        }
      ]
    },
    {
      "cell_type": "code",
      "source": [
        "params = tf.random.uniform([2, 2], 0, 10, dtype = tf.int32)\n",
        "indices = tf.constant([[1, 0], [0, 1]])\n",
        "print(params)\n",
        "a = tf.gather_nd(params, indices)\n",
        "print(a)"
      ],
      "metadata": {
        "colab": {
          "base_uri": "https://localhost:8080/"
        },
        "id": "anlntjxTLw9a",
        "outputId": "53f224b3-35fb-4d1e-d740-3342e297057b"
      },
      "execution_count": 190,
      "outputs": [
        {
          "output_type": "stream",
          "name": "stdout",
          "text": [
            "tf.Tensor(\n",
            "[[1 4]\n",
            " [5 6]], shape=(2, 2), dtype=int32)\n",
            "tf.Tensor([5 4], shape=(2,), dtype=int32)\n"
          ]
        }
      ]
    },
    {
      "cell_type": "code",
      "source": [
        "params = tf.random.uniform([3, 2, 2], 0, 10, dtype = tf.int32)\n",
        "indices = tf.constant([[1, 0], [0, 1]])\n",
        "print(params)\n",
        "a = tf.gather_nd(params, indices)\n",
        "print(a)"
      ],
      "metadata": {
        "colab": {
          "base_uri": "https://localhost:8080/"
        },
        "id": "6m-2USalNJYz",
        "outputId": "9a2e57ba-1984-49e1-9ab9-9b5559c49a19"
      },
      "execution_count": 191,
      "outputs": [
        {
          "output_type": "stream",
          "name": "stdout",
          "text": [
            "tf.Tensor(\n",
            "[[[6 7]\n",
            "  [0 0]]\n",
            "\n",
            " [[6 8]\n",
            "  [4 3]]\n",
            "\n",
            " [[8 7]\n",
            "  [2 5]]], shape=(3, 2, 2), dtype=int32)\n",
            "tf.Tensor(\n",
            "[[6 8]\n",
            " [0 0]], shape=(2, 2), dtype=int32)\n"
          ]
        }
      ]
    },
    {
      "cell_type": "code",
      "source": [
        "params = tf.random.uniform([3, 2, 2], 0, 10, dtype = tf.int32)\n",
        "indices = tf.constant([[1, 0, 1], [0, 1, 0]])\n",
        "print(params)\n",
        "a = tf.gather_nd(params, indices)\n",
        "print(a)"
      ],
      "metadata": {
        "colab": {
          "base_uri": "https://localhost:8080/"
        },
        "id": "ND08Eya7N8Fu",
        "outputId": "04a9aa85-daee-4432-bba8-c03a8519524a"
      },
      "execution_count": 192,
      "outputs": [
        {
          "output_type": "stream",
          "name": "stdout",
          "text": [
            "tf.Tensor(\n",
            "[[[5 6]\n",
            "  [1 4]]\n",
            "\n",
            " [[6 2]\n",
            "  [9 5]]\n",
            "\n",
            " [[4 6]\n",
            "  [2 4]]], shape=(3, 2, 2), dtype=int32)\n",
            "tf.Tensor([2 1], shape=(2,), dtype=int32)\n"
          ]
        }
      ]
    },
    {
      "cell_type": "code",
      "source": [
        "params = tf.random.uniform([3, 2, 2], 0, 10, dtype = tf.int32)\n",
        "indices = tf.constant([[[1, 0],\n",
        "                        [0, 1]],\n",
        "                       [[0, 0],\n",
        "                        [1, 1]]])\n",
        "print(params)\n",
        "a = tf.gather_nd(params, indices)\n",
        "print(a)"
      ],
      "metadata": {
        "colab": {
          "base_uri": "https://localhost:8080/"
        },
        "id": "Hn7jrSEzZgNc",
        "outputId": "a471dca5-12a1-426c-84d2-21f05cebad67"
      },
      "execution_count": 193,
      "outputs": [
        {
          "output_type": "stream",
          "name": "stdout",
          "text": [
            "tf.Tensor(\n",
            "[[[7 5]\n",
            "  [4 2]]\n",
            "\n",
            " [[3 2]\n",
            "  [5 3]]\n",
            "\n",
            " [[6 7]\n",
            "  [1 7]]], shape=(3, 2, 2), dtype=int32)\n",
            "tf.Tensor(\n",
            "[[[3 2]\n",
            "  [4 2]]\n",
            "\n",
            " [[7 5]\n",
            "  [5 3]]], shape=(2, 2, 2), dtype=int32)\n"
          ]
        }
      ]
    },
    {
      "cell_type": "markdown",
      "source": [
        "When specifying `batch_dims = 1`, we're essentially saying that the indices match with the params"
      ],
      "metadata": {
        "id": "B7pk3wUUePQv"
      }
    },
    {
      "cell_type": "code",
      "source": [
        "params = tf.random.uniform([2, 2, 2], 0, 10, dtype = tf.int32)\n",
        "indices = tf.constant([[1, 0], [0, 1]])\n",
        "print(params)\n",
        "a = tf.gather_nd(params, indices, batch_dims = 1)\n",
        "print(a)"
      ],
      "metadata": {
        "colab": {
          "base_uri": "https://localhost:8080/"
        },
        "id": "ZilViex4Z5ps",
        "outputId": "224e535c-6e86-4d0b-acad-c84ed7e202b8"
      },
      "execution_count": 194,
      "outputs": [
        {
          "output_type": "stream",
          "name": "stdout",
          "text": [
            "tf.Tensor(\n",
            "[[[7 0]\n",
            "  [2 2]]\n",
            "\n",
            " [[5 4]\n",
            "  [4 9]]], shape=(2, 2, 2), dtype=int32)\n",
            "tf.Tensor([2 4], shape=(2,), dtype=int32)\n"
          ]
        }
      ]
    },
    {
      "cell_type": "code",
      "source": [
        "params = tf.random.uniform([3, 2, 2], 0, 10, dtype = tf.int32)\n",
        "indices = tf.constant([[1, 0],\n",
        "                       [0, 1],\n",
        "                       [1, 1]])\n",
        "print(params)\n",
        "a = tf.gather_nd(params, indices, batch_dims = 1)\n",
        "print(a)"
      ],
      "metadata": {
        "colab": {
          "base_uri": "https://localhost:8080/"
        },
        "id": "WtRtntBrddhk",
        "outputId": "6493fe0f-9e40-4267-e250-f026456793b0"
      },
      "execution_count": 195,
      "outputs": [
        {
          "output_type": "stream",
          "name": "stdout",
          "text": [
            "tf.Tensor(\n",
            "[[[1 6]\n",
            "  [2 8]]\n",
            "\n",
            " [[9 3]\n",
            "  [2 7]]\n",
            "\n",
            " [[3 0]\n",
            "  [9 9]]], shape=(3, 2, 2), dtype=int32)\n",
            "tf.Tensor([2 3 9], shape=(3,), dtype=int32)\n"
          ]
        }
      ]
    },
    {
      "cell_type": "markdown",
      "source": [
        "**Ragged Tensor**"
      ],
      "metadata": {
        "id": "hjjMd4z3l1C0"
      }
    },
    {
      "cell_type": "code",
      "source": [
        "tensor_ragged = tf.ragged.constant([[5, 2],\n",
        "                                    [9, 12, 5],\n",
        "                                    [18, 11, 25, 10],\n",
        "                                    [5, 3, 4, 6, 7]])\n",
        "print(tensor_ragged)\n",
        "print(tensor_ragged.shape)"
      ],
      "metadata": {
        "colab": {
          "base_uri": "https://localhost:8080/"
        },
        "id": "pXyAUSD7euZ1",
        "outputId": "fead72c2-7782-4442-f0a4-49e4979d5e10"
      },
      "execution_count": 197,
      "outputs": [
        {
          "output_type": "stream",
          "name": "stdout",
          "text": [
            "<tf.RaggedTensor [[5, 2], [9, 12, 5], [18, 11, 25, 10], [5, 3, 4, 6, 7]]>\n",
            "(4, None)\n"
          ]
        }
      ]
    },
    {
      "cell_type": "markdown",
      "source": [
        "`tf.ragged.boolean_mask` to choose which element to show, and which not to"
      ],
      "metadata": {
        "id": "GBRFy0fBpWe-"
      }
    },
    {
      "cell_type": "code",
      "source": [
        "T, F = (True, False)\n",
        "data=[[1, 2, 3], [4, 5, 6], [7, 8, 9]]\n",
        "mask=[[T, F, T], [F, F, F], [T, F, F]]\n",
        "masked_data = tf.ragged.boolean_mask(data, mask)\n",
        "print(masked_data)"
      ],
      "metadata": {
        "colab": {
          "base_uri": "https://localhost:8080/"
        },
        "id": "ZXIiu4GponmK",
        "outputId": "3fa2eda7-d745-44fa-ba7f-ad45a5655d61"
      },
      "execution_count": 199,
      "outputs": [
        {
          "output_type": "stream",
          "name": "stdout",
          "text": [
            "<tf.RaggedTensor [[1, 3], [], [7]]>\n"
          ]
        }
      ]
    },
    {
      "cell_type": "markdown",
      "source": [
        "We can also choose only the rows, instead of having to manually choose every element"
      ],
      "metadata": {
        "id": "wm5JHedUpeWW"
      }
    },
    {
      "cell_type": "code",
      "source": [
        "T, F = (True, False)\n",
        "data=[[1, 2, 3], [4, 5, 6], [7, 8, 9]]\n",
        "mask=[T, F, T]\n",
        "masked_data = tf.ragged.boolean_mask(data, mask)\n",
        "print(masked_data)"
      ],
      "metadata": {
        "colab": {
          "base_uri": "https://localhost:8080/"
        },
        "id": "mcgr_IP6pKqf",
        "outputId": "306ee798-4d4b-4067-89ef-fd4293e10154"
      },
      "execution_count": 201,
      "outputs": [
        {
          "output_type": "stream",
          "name": "stdout",
          "text": [
            "tf.Tensor(\n",
            "[[1 2 3]\n",
            " [7 8 9]], shape=(2, 3), dtype=int32)\n"
          ]
        }
      ]
    },
    {
      "cell_type": "code",
      "source": [
        "values = [3, 1, 4, 1, 5, 9, 2, 6]\n",
        "lengths = [4, 0, 3, 1, 0]\n",
        "row_length_tensor = tf.RaggedTensor.from_row_lengths(values, lengths)\n",
        "print(row_length_tensor)"
      ],
      "metadata": {
        "colab": {
          "base_uri": "https://localhost:8080/"
        },
        "id": "Oo0Hbb7jplvw",
        "outputId": "9ec48263-1ab0-4c35-8ee4-501deed778fe"
      },
      "execution_count": 206,
      "outputs": [
        {
          "output_type": "stream",
          "name": "stdout",
          "text": [
            "<tf.RaggedTensor [[3, 1, 4, 1], [], [5, 9, 2], [6], []]>\n"
          ]
        }
      ]
    },
    {
      "cell_type": "markdown",
      "source": [
        "`tf.RaggedTensor.from_row_limits` takes a list of the the elements from the previous index to the current index"
      ],
      "metadata": {
        "id": "ZTmz6uEYtjb4"
      }
    },
    {
      "cell_type": "code",
      "source": [
        "values = [3, 1, 4, 1, 5, 9, 2, 6]\n",
        "limits = [4, 4, 5, 7, 8, 8]\n",
        "row_limit_tensor = tf.RaggedTensor.from_row_limits(values, limits)\n",
        "print(row_limit_tensor)"
      ],
      "metadata": {
        "colab": {
          "base_uri": "https://localhost:8080/"
        },
        "id": "h0_TbXDtqlwf",
        "outputId": "204a4097-bfec-424e-ecb1-2c9c3df6ad27"
      },
      "execution_count": 210,
      "outputs": [
        {
          "output_type": "stream",
          "name": "stdout",
          "text": [
            "<tf.RaggedTensor [[3, 1, 4, 1], [], [5], [9, 2], [6], []]>\n"
          ]
        }
      ]
    },
    {
      "cell_type": "markdown",
      "source": [
        "The first element of the split list/array/tensor of `tf.RaggedTensor.from_row_splits()` has to be 0"
      ],
      "metadata": {
        "id": "DyBzX0sqvVtM"
      }
    },
    {
      "cell_type": "code",
      "source": [
        "values = [3, 1, 4, 1, 5, 9, 2, 6]\n",
        "splits = [0, 4, 4, 5, 7, 8, 8]\n",
        "row_split_tensor = tf.RaggedTensor.from_row_splits(values, splits)\n",
        "print(row_split_tensor)"
      ],
      "metadata": {
        "colab": {
          "base_uri": "https://localhost:8080/"
        },
        "id": "98YFj2Evt_qY",
        "outputId": "97b23c1f-1f44-4515-c904-78eddf989101"
      },
      "execution_count": 214,
      "outputs": [
        {
          "output_type": "stream",
          "name": "stdout",
          "text": [
            "<tf.RaggedTensor [[3, 1, 4, 1], [], [5], [9, 2], [6], []]>\n"
          ]
        }
      ]
    },
    {
      "cell_type": "markdown",
      "source": [
        "The `lengths` parameter in `tf.RaggedTensor.from_tensor()` specifies how many elements of each row to take"
      ],
      "metadata": {
        "id": "F5wS5DLe8oK1"
      }
    },
    {
      "cell_type": "code",
      "source": [
        "data = tf.random.uniform([3, 3], 0, 12, dtype = tf.int32)\n",
        "a = tf.RaggedTensor.from_tensor(data, lengths = [2, 3, 0])\n",
        "print(data)\n",
        "print(a)"
      ],
      "metadata": {
        "colab": {
          "base_uri": "https://localhost:8080/"
        },
        "id": "zFbEVUCpuEWh",
        "outputId": "66f79de6-4908-4ccf-97bd-ef26e7573cdf"
      },
      "execution_count": 215,
      "outputs": [
        {
          "output_type": "stream",
          "name": "stdout",
          "text": [
            "tf.Tensor(\n",
            "[[5 1 2]\n",
            " [3 2 5]\n",
            " [1 5 3]], shape=(3, 3), dtype=int32)\n",
            "<tf.RaggedTensor [[5, 1], [3, 2, 5], []]>\n"
          ]
        }
      ]
    },
    {
      "cell_type": "code",
      "source": [
        "sparse_tensor = tf.sparse.SparseTensor(\n",
        "    indices = [[1, 3], [5, 6]],\n",
        "    values = [12, 5],\n",
        "    dense_shape = [7, 8]\n",
        ")\n",
        "print(sparse_tensor)\n",
        "a = tf.sparse.to_dense(sparse_tensor)\n",
        "print(a)"
      ],
      "metadata": {
        "colab": {
          "base_uri": "https://localhost:8080/"
        },
        "id": "W2xRcvyw8lEz",
        "outputId": "fdc7786a-54eb-4e23-b510-940845293ae9"
      },
      "execution_count": 221,
      "outputs": [
        {
          "output_type": "stream",
          "name": "stdout",
          "text": [
            "SparseTensor(indices=tf.Tensor(\n",
            "[[1 3]\n",
            " [5 6]], shape=(2, 2), dtype=int64), values=tf.Tensor([12  5], shape=(2,), dtype=int32), dense_shape=tf.Tensor([7 8], shape=(2,), dtype=int64))\n",
            "tf.Tensor(\n",
            "[[ 0  0  0  0  0  0  0  0]\n",
            " [ 0  0  0 12  0  0  0  0]\n",
            " [ 0  0  0  0  0  0  0  0]\n",
            " [ 0  0  0  0  0  0  0  0]\n",
            " [ 0  0  0  0  0  0  0  0]\n",
            " [ 0  0  0  0  0  0  5  0]\n",
            " [ 0  0  0  0  0  0  0  0]], shape=(7, 8), dtype=int32)\n"
          ]
        }
      ]
    },
    {
      "cell_type": "code",
      "source": [
        "string_tensor = tf.constant([\"Hello\", \"I am learning\"])\n",
        "print(tf.strings.join(string_tensor, separator = \" \"))\n",
        "print(tf.strings.length(string_tensor))"
      ],
      "metadata": {
        "colab": {
          "base_uri": "https://localhost:8080/"
        },
        "id": "aTZ6MoZZApbD",
        "outputId": "910fb760-185f-44a5-a218-a1c28c37a250"
      },
      "execution_count": 225,
      "outputs": [
        {
          "output_type": "stream",
          "name": "stdout",
          "text": [
            "tf.Tensor(b'Hello I am learning', shape=(), dtype=string)\n",
            "tf.Tensor([ 5 13], shape=(2,), dtype=int32)\n"
          ]
        }
      ]
    },
    {
      "cell_type": "code",
      "source": [
        "x_var = tf.Variable(tf.constant([12, 5]))\n",
        "print(x_var)\n",
        "x_var.assign([5, 12])\n",
        "print(x_var)\n",
        "x_var.assign_add([18, 11])\n",
        "print(x_var)\n",
        "x_var.assign_sub([11, 18])\n",
        "print(x_var)"
      ],
      "metadata": {
        "colab": {
          "base_uri": "https://localhost:8080/"
        },
        "id": "42cFmkONOSsA",
        "outputId": "378d6b28-2f96-48cc-9293-129e529245c0"
      },
      "execution_count": 226,
      "outputs": [
        {
          "output_type": "stream",
          "name": "stdout",
          "text": [
            "<tf.Variable 'Variable:0' shape=(2,) dtype=int32, numpy=array([12,  5], dtype=int32)>\n",
            "<tf.Variable 'Variable:0' shape=(2,) dtype=int32, numpy=array([ 5, 12], dtype=int32)>\n",
            "<tf.Variable 'Variable:0' shape=(2,) dtype=int32, numpy=array([23, 23], dtype=int32)>\n",
            "<tf.Variable 'Variable:0' shape=(2,) dtype=int32, numpy=array([12,  5], dtype=int32)>\n"
          ]
        }
      ]
    },
    {
      "cell_type": "code",
      "source": [],
      "metadata": {
        "id": "soIrS9XwQOnN"
      },
      "execution_count": null,
      "outputs": []
    }
  ]
}
