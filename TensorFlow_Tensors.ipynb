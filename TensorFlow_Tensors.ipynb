{
  "nbformat": 4,
  "nbformat_minor": 0,
  "metadata": {
    "colab": {
      "provenance": [],
      "authorship_tag": "ABX9TyPK/sUjtQlXcMssGOvr9o1V",
      "include_colab_link": true
    },
    "kernelspec": {
      "name": "python3",
      "display_name": "Python 3"
    },
    "language_info": {
      "name": "python"
    }
  },
  "cells": [
    {
      "cell_type": "markdown",
      "metadata": {
        "id": "view-in-github",
        "colab_type": "text"
      },
      "source": [
        "<a href=\"https://colab.research.google.com/github/DangGiaChi/Tensorflow-Course/blob/main/TensorFlow_Tensors.ipynb\" target=\"_parent\"><img src=\"https://colab.research.google.com/assets/colab-badge.svg\" alt=\"Open In Colab\"/></a>"
      ]
    },
    {
      "cell_type": "code",
      "execution_count": 1,
      "metadata": {
        "id": "kZ9_83coOcLd"
      },
      "outputs": [],
      "source": [
        "import tensorflow as tf\n",
        "import numpy as np"
      ]
    },
    {
      "cell_type": "markdown",
      "source": [
        "**Basic Tensors**"
      ],
      "metadata": {
        "id": "KfIeWMrQ_wRe"
      }
    },
    {
      "cell_type": "code",
      "source": [
        "tensor_zero_d = tf.constant(12)"
      ],
      "metadata": {
        "id": "26awI8OeOtz9"
      },
      "execution_count": 2,
      "outputs": []
    },
    {
      "cell_type": "code",
      "source": [
        "print(tensor_zero_d)"
      ],
      "metadata": {
        "colab": {
          "base_uri": "https://localhost:8080/"
        },
        "id": "NKbFMpboO22q",
        "outputId": "b54cda85-da2a-4889-afdb-e151278f77cb"
      },
      "execution_count": 3,
      "outputs": [
        {
          "output_type": "stream",
          "name": "stdout",
          "text": [
            "tf.Tensor(12, shape=(), dtype=int32)\n"
          ]
        }
      ]
    },
    {
      "cell_type": "code",
      "source": [
        "tensor_one_d = tf.constant([12, 5, 18, 11.], dtype = tf.float16)"
      ],
      "metadata": {
        "id": "2JzMTUjuO9Ai"
      },
      "execution_count": 4,
      "outputs": []
    },
    {
      "cell_type": "code",
      "source": [
        "print(tensor_one_d)"
      ],
      "metadata": {
        "colab": {
          "base_uri": "https://localhost:8080/"
        },
        "id": "anTTFk99O9tL",
        "outputId": "73225f8d-f6ff-475b-f61a-7f8af80a4fbe"
      },
      "execution_count": 5,
      "outputs": [
        {
          "output_type": "stream",
          "name": "stdout",
          "text": [
            "tf.Tensor([12.  5. 18. 11.], shape=(4,), dtype=float16)\n"
          ]
        }
      ]
    },
    {
      "cell_type": "code",
      "source": [
        "print(tensor_one_d.shape)"
      ],
      "metadata": {
        "colab": {
          "base_uri": "https://localhost:8080/"
        },
        "id": "81QACoK7O99Y",
        "outputId": "7606522b-e7e8-4e44-9a59-de7be4441fc1"
      },
      "execution_count": 6,
      "outputs": [
        {
          "output_type": "stream",
          "name": "stdout",
          "text": [
            "(4,)\n"
          ]
        }
      ]
    },
    {
      "cell_type": "code",
      "source": [
        "print(tensor_one_d.ndim)"
      ],
      "metadata": {
        "colab": {
          "base_uri": "https://localhost:8080/"
        },
        "id": "pG3tju0KPY5F",
        "outputId": "46807116-4d4c-4643-ac50-84a890c16188"
      },
      "execution_count": 7,
      "outputs": [
        {
          "output_type": "stream",
          "name": "stdout",
          "text": [
            "1\n"
          ]
        }
      ]
    },
    {
      "cell_type": "code",
      "source": [
        "tensor_one_d_2 = tf.constant([5, 9, 12.], dtype = tf.float32)\n",
        "tensor_one_d_2_int = tf.cast(tensor_one_d_2, dtype = tf.int16)\n",
        "print(tensor_one_d_2)\n",
        "print(tensor_one_d_2_int)"
      ],
      "metadata": {
        "colab": {
          "base_uri": "https://localhost:8080/"
        },
        "id": "-yRh4b1iPY-b",
        "outputId": "4e37010c-bf8d-4031-85ed-abb7cc4dcdff"
      },
      "execution_count": 8,
      "outputs": [
        {
          "output_type": "stream",
          "name": "stdout",
          "text": [
            "tf.Tensor([ 5.  9. 12.], shape=(3,), dtype=float32)\n",
            "tf.Tensor([ 5  9 12], shape=(3,), dtype=int16)\n"
          ]
        }
      ]
    },
    {
      "cell_type": "code",
      "source": [
        "tensor_string = tf.constant([\"Hello\", \"Hi\"])\n",
        "print(tensor_string)"
      ],
      "metadata": {
        "colab": {
          "base_uri": "https://localhost:8080/"
        },
        "id": "5Aup3csFPZab",
        "outputId": "b09a1665-3ea9-40d3-ea62-b116f2d0294d"
      },
      "execution_count": 9,
      "outputs": [
        {
          "output_type": "stream",
          "name": "stdout",
          "text": [
            "tf.Tensor([b'Hello' b'Hi'], shape=(2,), dtype=string)\n"
          ]
        }
      ]
    },
    {
      "cell_type": "code",
      "source": [
        "np_array = np.array([12, 5, 18, 11])\n",
        "print(np_array)"
      ],
      "metadata": {
        "colab": {
          "base_uri": "https://localhost:8080/"
        },
        "id": "I0aDMp_cPZ4K",
        "outputId": "bb0e251b-ef9e-4c4d-a707-5e5563c542df"
      },
      "execution_count": 10,
      "outputs": [
        {
          "output_type": "stream",
          "name": "stdout",
          "text": [
            "[12  5 18 11]\n"
          ]
        }
      ]
    },
    {
      "cell_type": "code",
      "source": [
        "converted_tensor = tf.convert_to_tensor(np_array)\n",
        "print(converted_tensor)"
      ],
      "metadata": {
        "colab": {
          "base_uri": "https://localhost:8080/"
        },
        "id": "8asZhU_tPaDq",
        "outputId": "298fd1c9-3e61-45f8-a680-411a51a90e84"
      },
      "execution_count": 11,
      "outputs": [
        {
          "output_type": "stream",
          "name": "stdout",
          "text": [
            "tf.Tensor([12  5 18 11], shape=(4,), dtype=int64)\n"
          ]
        }
      ]
    },
    {
      "cell_type": "code",
      "source": [
        "eye_tensor_1 = tf.eye(3, 2)\n",
        "print(eye_tensor_1)\n",
        "\n",
        "eye_tensor_2 = tf.eye(3, dtype = tf.bool, batch_shape = [3, 2])\n",
        "print(eye_tensor_2)"
      ],
      "metadata": {
        "colab": {
          "base_uri": "https://localhost:8080/"
        },
        "id": "vuBrF1VIO-Ib",
        "outputId": "cd349d47-2d79-4f59-f433-d83d77ac5fd1"
      },
      "execution_count": 12,
      "outputs": [
        {
          "output_type": "stream",
          "name": "stdout",
          "text": [
            "tf.Tensor(\n",
            "[[1. 0.]\n",
            " [0. 1.]\n",
            " [0. 0.]], shape=(3, 2), dtype=float32)\n",
            "tf.Tensor(\n",
            "[[[[ True False False]\n",
            "   [False  True False]\n",
            "   [False False  True]]\n",
            "\n",
            "  [[ True False False]\n",
            "   [False  True False]\n",
            "   [False False  True]]]\n",
            "\n",
            "\n",
            " [[[ True False False]\n",
            "   [False  True False]\n",
            "   [False False  True]]\n",
            "\n",
            "  [[ True False False]\n",
            "   [False  True False]\n",
            "   [False False  True]]]\n",
            "\n",
            "\n",
            " [[[ True False False]\n",
            "   [False  True False]\n",
            "   [False False  True]]\n",
            "\n",
            "  [[ True False False]\n",
            "   [False  True False]\n",
            "   [False False  True]]]], shape=(3, 2, 3, 3), dtype=bool)\n"
          ]
        }
      ]
    },
    {
      "cell_type": "code",
      "source": [
        "fill_tensor = tf.fill([5, 4], 12.05)\n",
        "print(fill_tensor)"
      ],
      "metadata": {
        "colab": {
          "base_uri": "https://localhost:8080/"
        },
        "id": "cUkZkyCOy9_4",
        "outputId": "12beb7a5-f874-4c91-ad61-fb803d5b0cc5"
      },
      "execution_count": 13,
      "outputs": [
        {
          "output_type": "stream",
          "name": "stdout",
          "text": [
            "tf.Tensor(\n",
            "[[12.05 12.05 12.05 12.05]\n",
            " [12.05 12.05 12.05 12.05]\n",
            " [12.05 12.05 12.05 12.05]\n",
            " [12.05 12.05 12.05 12.05]\n",
            " [12.05 12.05 12.05 12.05]], shape=(5, 4), dtype=float32)\n"
          ]
        }
      ]
    },
    {
      "cell_type": "code",
      "source": [
        "ones_tensor = tf.ones([5, 4])\n",
        "print(ones_tensor)"
      ],
      "metadata": {
        "colab": {
          "base_uri": "https://localhost:8080/"
        },
        "id": "DxX5VjRF1aCH",
        "outputId": "4867a7f8-5738-462a-f1ae-7055a7be7edf"
      },
      "execution_count": 14,
      "outputs": [
        {
          "output_type": "stream",
          "name": "stdout",
          "text": [
            "tf.Tensor(\n",
            "[[1. 1. 1. 1.]\n",
            " [1. 1. 1. 1.]\n",
            " [1. 1. 1. 1.]\n",
            " [1. 1. 1. 1.]\n",
            " [1. 1. 1. 1.]], shape=(5, 4), dtype=float32)\n"
          ]
        }
      ]
    },
    {
      "cell_type": "code",
      "source": [
        "sample_tensor = tf.constant([[2, 3, 5],[5, 8,9]])\n",
        "ones_like_tensor = tf.ones_like(sample_tensor)\n",
        "print(ones_like_tensor)"
      ],
      "metadata": {
        "colab": {
          "base_uri": "https://localhost:8080/"
        },
        "id": "7DYFI0Wx1hdv",
        "outputId": "15ffe6f0-f127-4e88-bf77-4f7558aca178"
      },
      "execution_count": 15,
      "outputs": [
        {
          "output_type": "stream",
          "name": "stdout",
          "text": [
            "tf.Tensor(\n",
            "[[1 1 1]\n",
            " [1 1 1]], shape=(2, 3), dtype=int32)\n"
          ]
        }
      ]
    },
    {
      "cell_type": "code",
      "source": [
        "zeros_tensor = tf.zeros([2, 3])\n",
        "print(zeros_tensor)"
      ],
      "metadata": {
        "colab": {
          "base_uri": "https://localhost:8080/"
        },
        "id": "9ce7-8u_2TeA",
        "outputId": "e29c149f-cfc9-4a68-eb8d-f1cf63c3eaec"
      },
      "execution_count": 16,
      "outputs": [
        {
          "output_type": "stream",
          "name": "stdout",
          "text": [
            "tf.Tensor(\n",
            "[[0. 0. 0.]\n",
            " [0. 0. 0.]], shape=(2, 3), dtype=float32)\n"
          ]
        }
      ]
    },
    {
      "cell_type": "code",
      "source": [
        "print(tf.shape(sample_tensor))"
      ],
      "metadata": {
        "colab": {
          "base_uri": "https://localhost:8080/"
        },
        "id": "v71PcFIH2b8T",
        "outputId": "763a0143-2b55-4257-9430-1179aa662e74"
      },
      "execution_count": 17,
      "outputs": [
        {
          "output_type": "stream",
          "name": "stdout",
          "text": [
            "tf.Tensor([2 3], shape=(2,), dtype=int32)\n"
          ]
        }
      ]
    },
    {
      "cell_type": "code",
      "source": [
        "rank_tensor_1 = tf.constant(12.05)\n",
        "rank_tensor_2 = tf.constant([12.05])\n",
        "rank_tensor_3 = sample_tensor\n",
        "\n",
        "print(tf.rank(rank_tensor_1))\n",
        "print(tf.rank(rank_tensor_2))\n",
        "print(tf.rank(rank_tensor_3))"
      ],
      "metadata": {
        "colab": {
          "base_uri": "https://localhost:8080/"
        },
        "id": "rNLIzN1d2qAZ",
        "outputId": "f143d98b-880f-40fd-97d2-cd8e83d64dc0"
      },
      "execution_count": 18,
      "outputs": [
        {
          "output_type": "stream",
          "name": "stdout",
          "text": [
            "tf.Tensor(0, shape=(), dtype=int32)\n",
            "tf.Tensor(1, shape=(), dtype=int32)\n",
            "tf.Tensor(2, shape=(), dtype=int32)\n"
          ]
        }
      ]
    },
    {
      "cell_type": "code",
      "source": [
        "print(tf.size(sample_tensor))"
      ],
      "metadata": {
        "colab": {
          "base_uri": "https://localhost:8080/"
        },
        "id": "Nx8R_uuF3Y0C",
        "outputId": "63feddec-7aec-442f-a458-e2c0a2e661c6"
      },
      "execution_count": 19,
      "outputs": [
        {
          "output_type": "stream",
          "name": "stdout",
          "text": [
            "tf.Tensor(6, shape=(), dtype=int32)\n"
          ]
        }
      ]
    },
    {
      "cell_type": "code",
      "source": [
        "print(tf.size(sample_tensor, out_type = tf.float16))"
      ],
      "metadata": {
        "colab": {
          "base_uri": "https://localhost:8080/"
        },
        "id": "bel_u3MW3uoA",
        "outputId": "64f4b340-9537-41da-8eea-8ef397abdbc2"
      },
      "execution_count": 20,
      "outputs": [
        {
          "output_type": "stream",
          "name": "stdout",
          "text": [
            "tf.Tensor(6.0, shape=(), dtype=float16)\n"
          ]
        }
      ]
    },
    {
      "cell_type": "code",
      "source": [
        "random_normal_tensor = tf.random.normal([3, 2], mean = 100, stddev = 1.5)\n",
        "print(random_normal_tensor)"
      ],
      "metadata": {
        "colab": {
          "base_uri": "https://localhost:8080/"
        },
        "id": "UFISpzQK4ERo",
        "outputId": "3b79c192-b41e-4201-82a2-ed27a3a9bbf7"
      },
      "execution_count": 21,
      "outputs": [
        {
          "output_type": "stream",
          "name": "stdout",
          "text": [
            "tf.Tensor(\n",
            "[[97.760796 99.87523 ]\n",
            " [98.84369  99.30642 ]\n",
            " [99.07979  99.310715]], shape=(3, 2), dtype=float32)\n"
          ]
        }
      ]
    },
    {
      "cell_type": "code",
      "source": [
        "random_uniform_tensor = tf.random.uniform([2, 3], 3, 10, tf.int32)\n",
        "print(random_uniform_tensor)"
      ],
      "metadata": {
        "colab": {
          "base_uri": "https://localhost:8080/"
        },
        "id": "RTDVLY4u5HvR",
        "outputId": "5c933c18-621d-4d82-d98c-5885606a7987"
      },
      "execution_count": 22,
      "outputs": [
        {
          "output_type": "stream",
          "name": "stdout",
          "text": [
            "tf.Tensor(\n",
            "[[6 4 8]\n",
            " [6 3 9]], shape=(2, 3), dtype=int32)\n"
          ]
        }
      ]
    },
    {
      "cell_type": "markdown",
      "source": [
        "**Indexing**"
      ],
      "metadata": {
        "id": "e6XHZP_5_lTK"
      }
    },
    {
      "cell_type": "code",
      "source": [
        "indexed_tensor = tf.constant([5, 6, 3, 8, 9, 12])\n",
        "print(indexed_tensor[:4])\n",
        "print(indexed_tensor[1:4])\n",
        "print(indexed_tensor[:5:2])\n",
        "print(indexed_tensor[:-1])"
      ],
      "metadata": {
        "colab": {
          "base_uri": "https://localhost:8080/"
        },
        "id": "SJuPz1KK_pml",
        "outputId": "dc920f83-c819-4c57-d19f-e1f0378d669c"
      },
      "execution_count": 23,
      "outputs": [
        {
          "output_type": "stream",
          "name": "stdout",
          "text": [
            "tf.Tensor([5 6 3 8], shape=(4,), dtype=int32)\n",
            "tf.Tensor([6 3 8], shape=(3,), dtype=int32)\n",
            "tf.Tensor([5 3 9], shape=(3,), dtype=int32)\n",
            "tf.Tensor([5 6 3 8 9], shape=(5,), dtype=int32)\n"
          ]
        }
      ]
    },
    {
      "cell_type": "markdown",
      "source": [
        "**Maths Operations**"
      ],
      "metadata": {
        "id": "P0MFMDDxDDpW"
      }
    },
    {
      "cell_type": "code",
      "source": [
        "sample_x = tf.constant([-6, 12])\n",
        "print(tf.abs(sample_x))"
      ],
      "metadata": {
        "colab": {
          "base_uri": "https://localhost:8080/"
        },
        "id": "KmJZvKfNDIDS",
        "outputId": "a70e790d-192b-4697-872d-016b95363daf"
      },
      "execution_count": 24,
      "outputs": [
        {
          "output_type": "stream",
          "name": "stdout",
          "text": [
            "tf.Tensor([ 6 12], shape=(2,), dtype=int32)\n"
          ]
        }
      ]
    },
    {
      "cell_type": "code",
      "source": [
        "complex_tensor = tf.constant(3 + 4j)\n",
        "print(tf.abs(complex_tensor))"
      ],
      "metadata": {
        "colab": {
          "base_uri": "https://localhost:8080/"
        },
        "id": "igo4NwlnEQTd",
        "outputId": "75b54e5f-df47-479c-942f-bbe550575381"
      },
      "execution_count": 25,
      "outputs": [
        {
          "output_type": "stream",
          "name": "stdout",
          "text": [
            "tf.Tensor(5.0, shape=(), dtype=float64)\n"
          ]
        }
      ]
    },
    {
      "cell_type": "code",
      "source": [
        "print(tf.sqrt(tf.constant(5**2, dtype = tf.float16)))"
      ],
      "metadata": {
        "colab": {
          "base_uri": "https://localhost:8080/"
        },
        "id": "mMmHbyNYEkLz",
        "outputId": "0df415b1-2d8b-474d-c1b6-d2f27c586590"
      },
      "execution_count": 26,
      "outputs": [
        {
          "output_type": "stream",
          "name": "stdout",
          "text": [
            "tf.Tensor(5.0, shape=(), dtype=float16)\n"
          ]
        }
      ]
    },
    {
      "cell_type": "code",
      "source": [
        "x_1 = tf.ones([3, 2])\n",
        "x_2 = tf.fill([3, 2], 5.)\n",
        "print(x_1 + x_2)\n",
        "print(tf.add(x_1, x_2))"
      ],
      "metadata": {
        "colab": {
          "base_uri": "https://localhost:8080/"
        },
        "id": "ME_aKc9GEw_v",
        "outputId": "ff8159c8-0ae0-475d-cf32-8ea404bf7a15"
      },
      "execution_count": 27,
      "outputs": [
        {
          "output_type": "stream",
          "name": "stdout",
          "text": [
            "tf.Tensor(\n",
            "[[6. 6.]\n",
            " [6. 6.]\n",
            " [6. 6.]], shape=(3, 2), dtype=float32)\n",
            "tf.Tensor(\n",
            "[[6. 6.]\n",
            " [6. 6.]\n",
            " [6. 6.]], shape=(3, 2), dtype=float32)\n"
          ]
        }
      ]
    },
    {
      "cell_type": "code",
      "source": [
        "x_3 = tf.zeros([3, 2])\n",
        "print(tf.divide(x_1, x_3))\n",
        "print(tf.math.divide_no_nan(x_1, x_3))"
      ],
      "metadata": {
        "colab": {
          "base_uri": "https://localhost:8080/"
        },
        "id": "ZH45ZUeWFbIb",
        "outputId": "dcae694c-702b-4847-c10c-a2fb740a4699"
      },
      "execution_count": 28,
      "outputs": [
        {
          "output_type": "stream",
          "name": "stdout",
          "text": [
            "tf.Tensor(\n",
            "[[inf inf]\n",
            " [inf inf]\n",
            " [inf inf]], shape=(3, 2), dtype=float32)\n",
            "tf.Tensor(\n",
            "[[0. 0.]\n",
            " [0. 0.]\n",
            " [0. 0.]], shape=(3, 2), dtype=float32)\n"
          ]
        }
      ]
    },
    {
      "cell_type": "code",
      "source": [
        "argmax_tensor_1 = tf.constant([100, 250, 15, 20])\n",
        "argmax_tensor_2 = tf.constant([[2, 20, 30, 3, 6],\n",
        "                            [3, 11, 16, 1, 8],\n",
        "                            [14, 45, 23, 5, 27]]\n",
        "                            )\n",
        "print(tf.math.argmax(argmax_tensor_1))\n",
        "print(tf.math.argmax(argmax_tensor_2))\n",
        "print(tf.math.argmax(argmax_tensor_2, 0))\n",
        "print(tf.math.argmin(argmax_tensor_2, 0))\n",
        "print(tf.math.argmax(argmax_tensor_2, 1))"
      ],
      "metadata": {
        "colab": {
          "base_uri": "https://localhost:8080/"
        },
        "id": "w4-3y0IxGlij",
        "outputId": "388eb7c1-b72b-4ef0-f6b5-5d4a5569bc45"
      },
      "execution_count": 29,
      "outputs": [
        {
          "output_type": "stream",
          "name": "stdout",
          "text": [
            "tf.Tensor(1, shape=(), dtype=int64)\n",
            "tf.Tensor([2 2 0 2 2], shape=(5,), dtype=int64)\n",
            "tf.Tensor([2 2 0 2 2], shape=(5,), dtype=int64)\n",
            "tf.Tensor([0 1 1 1 0], shape=(5,), dtype=int64)\n",
            "tf.Tensor([2 2 1], shape=(3,), dtype=int64)\n"
          ]
        }
      ]
    },
    {
      "cell_type": "code",
      "source": [
        "a = tf.constant([2, 4])\n",
        "b = tf.constant([2])\n",
        "print(tf.equal(a, b))"
      ],
      "metadata": {
        "colab": {
          "base_uri": "https://localhost:8080/"
        },
        "id": "TVg0ucWaMGIM",
        "outputId": "10eae30e-a62e-492b-e0bc-f08bc24dc56e"
      },
      "execution_count": 30,
      "outputs": [
        {
          "output_type": "stream",
          "name": "stdout",
          "text": [
            "tf.Tensor([ True False], shape=(2,), dtype=bool)\n"
          ]
        }
      ]
    },
    {
      "cell_type": "code",
      "source": [
        "x = tf.constant([[2, 2], [3, 3]])\n",
        "y = tf.constant([[8, 16], [2, 3]])\n",
        "print(pow(x, y))"
      ],
      "metadata": {
        "colab": {
          "base_uri": "https://localhost:8080/"
        },
        "id": "37lz0aBOPBHV",
        "outputId": "e0b327a3-2a8f-4129-ec07-986584993d13"
      },
      "execution_count": 31,
      "outputs": [
        {
          "output_type": "stream",
          "name": "stdout",
          "text": [
            "tf.Tensor(\n",
            "[[  256 65536]\n",
            " [    9    27]], shape=(2, 2), dtype=int32)\n"
          ]
        }
      ]
    },
    {
      "cell_type": "code",
      "source": [
        "x = tf.constant([[1, -1, 1], [1, 1, 5]], dtype = tf.float16)\n",
        "print(tf.math.reduce_sum(x))\n",
        "print(tf.reduce_sum(x, 0, keepdims = True))\n",
        "print(tf.math.reduce_sum(x, 1))"
      ],
      "metadata": {
        "colab": {
          "base_uri": "https://localhost:8080/"
        },
        "id": "xxvZUdaaPOO8",
        "outputId": "867b3647-245a-4bad-ff55-0ca1e5419215"
      },
      "execution_count": 32,
      "outputs": [
        {
          "output_type": "stream",
          "name": "stdout",
          "text": [
            "tf.Tensor(8.0, shape=(), dtype=float16)\n",
            "tf.Tensor([[2. 0. 6.]], shape=(1, 3), dtype=float16)\n",
            "tf.Tensor([1. 7.], shape=(2,), dtype=float16)\n"
          ]
        }
      ]
    },
    {
      "cell_type": "code",
      "source": [
        "print(tf.reduce_max(x))\n",
        "print(tf.reduce_min(x))\n",
        "print(tf.reduce_mean(x))"
      ],
      "metadata": {
        "colab": {
          "base_uri": "https://localhost:8080/"
        },
        "id": "IDgynk0VP2AN",
        "outputId": "92286029-dc36-44f5-c87d-75a082f4fc2f"
      },
      "execution_count": 33,
      "outputs": [
        {
          "output_type": "stream",
          "name": "stdout",
          "text": [
            "tf.Tensor(5.0, shape=(), dtype=float16)\n",
            "tf.Tensor(-1.0, shape=(), dtype=float16)\n",
            "tf.Tensor(1.333, shape=(), dtype=float16)\n"
          ]
        }
      ]
    },
    {
      "cell_type": "code",
      "source": [
        "x = tf.constant([[18, 11, 100, 20], [5, 12, 9, 15]])\n",
        "print(tf.math.top_k(x, 2))"
      ],
      "metadata": {
        "colab": {
          "base_uri": "https://localhost:8080/"
        },
        "id": "1kZTh5G7QnnN",
        "outputId": "784ea8da-250d-43a8-84ed-fa6f0a62e7c0"
      },
      "execution_count": 34,
      "outputs": [
        {
          "output_type": "stream",
          "name": "stdout",
          "text": [
            "TopKV2(values=<tf.Tensor: shape=(2, 2), dtype=int32, numpy=\n",
            "array([[100,  20],\n",
            "       [ 15,  12]], dtype=int32)>, indices=<tf.Tensor: shape=(2, 2), dtype=int32, numpy=\n",
            "array([[2, 3],\n",
            "       [3, 1]], dtype=int32)>)\n"
          ]
        }
      ]
    },
    {
      "cell_type": "markdown",
      "source": [
        "**Linear Algebra Operations**"
      ],
      "metadata": {
        "id": "ASmdYry6TLRr"
      }
    },
    {
      "cell_type": "code",
      "source": [
        "x_1 = tf.constant([[12, 5, 20],\n",
        "                   [18, 11, 25]])\n",
        "x_2 = tf.constant([[5, 9, 15, 20],\n",
        "                   [4, 3, 16, 24],\n",
        "                   [3, 7, 10, 6]])\n",
        "print(tf.linalg.matmul(x_1, x_2))\n",
        "print(x_1 @ x_2)"
      ],
      "metadata": {
        "colab": {
          "base_uri": "https://localhost:8080/"
        },
        "id": "xq0w6Zl2SH0H",
        "outputId": "7bbce75b-fb16-4927-8ca6-a57b16044433"
      },
      "execution_count": 35,
      "outputs": [
        {
          "output_type": "stream",
          "name": "stdout",
          "text": [
            "tf.Tensor(\n",
            "[[140 263 460 480]\n",
            " [209 370 696 774]], shape=(2, 4), dtype=int32)\n",
            "tf.Tensor(\n",
            "[[140 263 460 480]\n",
            " [209 370 696 774]], shape=(2, 4), dtype=int32)\n"
          ]
        }
      ]
    },
    {
      "cell_type": "code",
      "source": [
        "print(tf.transpose(x_2))"
      ],
      "metadata": {
        "colab": {
          "base_uri": "https://localhost:8080/"
        },
        "id": "dvqsJuhNVkXQ",
        "outputId": "040d5ac4-7550-43a0-c292-ffc378b7f6dc"
      },
      "execution_count": 36,
      "outputs": [
        {
          "output_type": "stream",
          "name": "stdout",
          "text": [
            "tf.Tensor(\n",
            "[[ 5  4  3]\n",
            " [ 9  3  7]\n",
            " [15 16 10]\n",
            " [20 24  6]], shape=(4, 3), dtype=int32)\n"
          ]
        }
      ]
    },
    {
      "cell_type": "code",
      "source": [
        "x_1 = tf.constant([[12, 5, 20],\n",
        "                   [18, 11, 25]])\n",
        "x_3 = tf.constant([[5, 9, 15],\n",
        "                   [4, 3, 16],\n",
        "                   [5, 9, 16],\n",
        "                   [15, 6, 10]])\n",
        "print(tf.linalg.matmul(x_1, x_3, transpose_b = True))"
      ],
      "metadata": {
        "colab": {
          "base_uri": "https://localhost:8080/"
        },
        "id": "Dq6Gk4MSYCfw",
        "outputId": "8603a85a-704e-43ef-da6e-72cc9d82772c"
      },
      "execution_count": 37,
      "outputs": [
        {
          "output_type": "stream",
          "name": "stdout",
          "text": [
            "tf.Tensor(\n",
            "[[405 383 425 410]\n",
            " [564 505 589 586]], shape=(2, 4), dtype=int32)\n"
          ]
        }
      ]
    },
    {
      "cell_type": "code",
      "source": [
        "x_4 = tf.constant([[4, 5, 6]])\n",
        "x_5 = tf.constant([[9], [10], [1]])\n",
        "print(x_4@x_5)"
      ],
      "metadata": {
        "colab": {
          "base_uri": "https://localhost:8080/"
        },
        "id": "m6MWyqWPn4j1",
        "outputId": "08498302-bcc8-4bf3-ad92-aeb2b2ee2c10"
      },
      "execution_count": 38,
      "outputs": [
        {
          "output_type": "stream",
          "name": "stdout",
          "text": [
            "tf.Tensor([[92]], shape=(1, 1), dtype=int32)\n"
          ]
        }
      ]
    },
    {
      "cell_type": "code",
      "source": [
        "a = tf.random.uniform((3, 2, 3), dtype = tf.int32, minval = 1, maxval = 10)\n",
        "b = tf.random.uniform((3, 3, 5), dtype = tf.int32, minval = 1, maxval = 10)\n",
        "print(a)\n",
        "print(b)\n",
        "print(a@b)"
      ],
      "metadata": {
        "colab": {
          "base_uri": "https://localhost:8080/"
        },
        "id": "VCGsawRPeQvL",
        "outputId": "7398285a-65a5-44ff-a890-1809a8084ae3"
      },
      "execution_count": 39,
      "outputs": [
        {
          "output_type": "stream",
          "name": "stdout",
          "text": [
            "tf.Tensor(\n",
            "[[[1 6 4]\n",
            "  [7 8 8]]\n",
            "\n",
            " [[2 6 8]\n",
            "  [6 3 3]]\n",
            "\n",
            " [[1 8 1]\n",
            "  [5 9 5]]], shape=(3, 2, 3), dtype=int32)\n",
            "tf.Tensor(\n",
            "[[[9 2 1 2 2]\n",
            "  [8 3 1 3 4]\n",
            "  [9 5 2 6 2]]\n",
            "\n",
            " [[5 6 5 3 9]\n",
            "  [1 2 7 6 4]\n",
            "  [5 9 2 3 1]]\n",
            "\n",
            " [[6 3 7 6 1]\n",
            "  [3 7 7 7 5]\n",
            "  [7 8 3 4 3]]], shape=(3, 3, 5), dtype=int32)\n",
            "tf.Tensor(\n",
            "[[[ 93  40  15  44  34]\n",
            "  [199  78  31  86  62]]\n",
            "\n",
            " [[ 56  96  68  66  50]\n",
            "  [ 48  69  57  45  69]]\n",
            "\n",
            " [[ 37  67  66  66  44]\n",
            "  [ 92 118 113 113  65]]], shape=(3, 2, 5), dtype=int32)\n"
          ]
        }
      ]
    },
    {
      "cell_type": "code",
      "source": [
        "test_a = tf.constant([[5, 8, 5], [8, 2, 1]])\n",
        "test_b = tf.constant([[1, 7, 4, 1, 9],\n",
        "  [2, 6, 3, 6, 7,],\n",
        "  [5, 7, 4, 5, 7,]])\n",
        "print(test_a@test_b)"
      ],
      "metadata": {
        "colab": {
          "base_uri": "https://localhost:8080/"
        },
        "id": "ii7hrpqcfc5b",
        "outputId": "86a1bf44-3429-4683-c6c5-1b8210841f15"
      },
      "execution_count": 40,
      "outputs": [
        {
          "output_type": "stream",
          "name": "stdout",
          "text": [
            "tf.Tensor(\n",
            "[[ 46 118  64  78 136]\n",
            " [ 17  75  42  25  93]], shape=(2, 5), dtype=int32)\n"
          ]
        }
      ]
    },
    {
      "cell_type": "code",
      "source": [
        "band_tensor = tf.constant([\n",
        "    [ 0,  5,  2, 3],\n",
        "    [-1,  0,  1, 2],\n",
        "    [-2, -1,  0, 1],\n",
        "    [-3, -2, -1, 0]\n",
        "                           ])\n",
        "print(tf.linalg.band_part(band_tensor, 2, -1))\n",
        "print(tf.linalg.band_part(band_tensor, 1, 1))"
      ],
      "metadata": {
        "colab": {
          "base_uri": "https://localhost:8080/"
        },
        "id": "xkIZ6ISog9jc",
        "outputId": "25e045d8-52c0-46d6-c45c-560d0475bac4"
      },
      "execution_count": 41,
      "outputs": [
        {
          "output_type": "stream",
          "name": "stdout",
          "text": [
            "tf.Tensor(\n",
            "[[ 0  5  2  3]\n",
            " [-1  0  1  2]\n",
            " [-2 -1  0  1]\n",
            " [ 0 -2 -1  0]], shape=(4, 4), dtype=int32)\n",
            "tf.Tensor(\n",
            "[[ 0  5  0  0]\n",
            " [-1  0  1  0]\n",
            " [ 0 -1  0  1]\n",
            " [ 0  0 -1  0]], shape=(4, 4), dtype=int32)\n"
          ]
        }
      ]
    },
    {
      "cell_type": "markdown",
      "source": [
        "**Explanation of tf.linalg.band_part(input, num_lower, num_upper)**  \n",
        "*m: the index of the row*  \n",
        "*n: the index of the column*  \n",
        "Considering a 4x4 matrix, then:\n",
        "```  \n",
        "tensor_m_n = [  \n",
        "[0, -1, -2, -3],  \n",
        "[1, 0, -1, -2],  \n",
        "[2, 1, 0, -1],  \n",
        "[3, 2, 1, 0]]  \n",
        "tensor_n_m = [  \n",
        "[0, 1, 2, 3],  \n",
        "[-1, 0, 1, 2],  \n",
        "[-2, -1, 0, 1],  \n",
        "[-3, -2, -1, 0]]\n",
        "```\n",
        "Considering an element [m, n], then:  \n",
        "`in_band(m, n) = (num_lower < 0 || (m-n) <= num_lower) && (num_upper < 0 || (n-m) <= num_upper)`  \n",
        "In short:\n",
        "- `num_lower` indicates the number of subdiagonals to keep. If negative, keep entire lower triangle.\n",
        "- `num_upper` indicates the number of superdiagonals to keep. If negative, keep entire upper triangle.  \n",
        "\n",
        "Explanation:\n",
        "- If `num_lower < 0` or `num_upper < 0`, this is an easy case.\n",
        "- Looking at a point in the lower half of the diagonal, then its `m-n` will be positive, and will be compared to `num_lower`, which is easy to understand. Its `n-m` will then be negative, and `n-m <= num_upper` will always be true (since `num_upper > 0`)\n",
        "- Similar to a point in the upper half of the diagonal."
      ],
      "metadata": {
        "id": "AU0dTST5Hnkq"
      }
    },
    {
      "cell_type": "markdown",
      "source": [
        "**Einsum**"
      ],
      "metadata": {
        "id": "bM6bLx2jYWCa"
      }
    },
    {
      "cell_type": "code",
      "source": [
        "A = tf.random.uniform([4,5], 0, 20, dtype = tf.int32)\n",
        "B = tf.random.uniform([5,2], 5, 25, dtype = tf.int32)\n",
        "print(\"Matmul: C = \", tf.matmul(A, B))\n",
        "print(\"Einsum: C = \", \"\\n\", np.einsum(\"ij, jk -> ik\", A, B))"
      ],
      "metadata": {
        "colab": {
          "base_uri": "https://localhost:8080/"
        },
        "id": "xxDIOVPdyNaJ",
        "outputId": "bae6647c-690e-4c0f-d81f-e6cb11d8c941"
      },
      "execution_count": 44,
      "outputs": [
        {
          "output_type": "stream",
          "name": "stdout",
          "text": [
            "Matmul: C =  tf.Tensor(\n",
            "[[756 715]\n",
            " [687 560]\n",
            " [567 495]\n",
            " [683 699]], shape=(4, 2), dtype=int32)\n",
            "Einsum: C =  \n",
            " [[756 715]\n",
            " [687 560]\n",
            " [567 495]\n",
            " [683 699]]\n"
          ]
        }
      ]
    },
    {
      "cell_type": "code",
      "source": [
        "A = tf.random.uniform([4, 5], 0, 20, dtype = tf.int32)\n",
        "B = tf.random.uniform([4, 5], 5, 25, dtype = tf.int32)\n",
        "print(\"Element-wise multiplication: C = \", A*B)\n",
        "print(\"Einsum: C = \\n\", np.einsum(\"ij, ij -> ij\", A, B))"
      ],
      "metadata": {
        "colab": {
          "base_uri": "https://localhost:8080/"
        },
        "id": "KrZvygM1Xp-Y",
        "outputId": "c627cf9a-30ff-44d2-bb22-38e388ebadd8"
      },
      "execution_count": 46,
      "outputs": [
        {
          "output_type": "stream",
          "name": "stdout",
          "text": [
            "Element-wise multiplication: C =  tf.Tensor(\n",
            "[[ 84 264 195 299 216]\n",
            " [ 55  54 234 322 336]\n",
            " [221 132 128 432  60]\n",
            " [117  60 266  39  45]], shape=(4, 5), dtype=int32)\n",
            "Einsum: C = \n",
            " [[ 84 264 195 299 216]\n",
            " [ 55  54 234 322 336]\n",
            " [221 132 128 432  60]\n",
            " [117  60 266  39  45]]\n"
          ]
        }
      ]
    },
    {
      "cell_type": "markdown",
      "source": [
        "If we're only dealing with one matrix (say, when we're calculatating the transpose of matrix A), then -> is not needed."
      ],
      "metadata": {
        "id": "FEvilIBVY2_V"
      }
    },
    {
      "cell_type": "code",
      "source": [
        "A = tf.random.uniform([4, 5], 0, 20, dtype = tf.int32)\n",
        "print(\"Transpose: AT = \", tf.transpose(A))\n",
        "print(\"Einsum: AT = \\n\", np.einsum(\"ji\", A))"
      ],
      "metadata": {
        "colab": {
          "base_uri": "https://localhost:8080/"
        },
        "id": "6CHleO90YPkf",
        "outputId": "3c316382-dde8-40c2-ddb9-0f04e7b56041"
      },
      "execution_count": 48,
      "outputs": [
        {
          "output_type": "stream",
          "name": "stdout",
          "text": [
            "Transpose: AT =  tf.Tensor(\n",
            "[[16 11  9 14]\n",
            " [ 4 14 18  6]\n",
            " [ 5 13 11  9]\n",
            " [ 7  5  0 16]\n",
            " [ 6  3  5  6]], shape=(5, 4), dtype=int32)\n",
            "Einsum: AT = \n",
            " [[16 11  9 14]\n",
            " [ 4 14 18  6]\n",
            " [ 5 13 11  9]\n",
            " [ 7  5  0 16]\n",
            " [ 6  3  5  6]]\n"
          ]
        }
      ]
    },
    {
      "cell_type": "code",
      "source": [],
      "metadata": {
        "id": "ODkOiemyYo2n"
      },
      "execution_count": null,
      "outputs": []
    }
  ]
}